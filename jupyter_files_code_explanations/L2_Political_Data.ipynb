{
 "cells": [
  {
   "cell_type": "markdown",
   "metadata": {
    "colab_type": "text",
    "id": "view-in-github"
   },
   "source": [
    "<a href=\"https://colab.research.google.com/github/afnanhaq/political-data-builder/blob/main/L2_Political_Data.ipynb\" target=\"_parent\"><img src=\"https://colab.research.google.com/assets/colab-badge.svg\" alt=\"Open In Colab\"/></a>"
   ]
  },
  {
   "cell_type": "markdown",
   "metadata": {
    "id": "abAu42E-3C1F"
   },
   "source": [
    "<img align=\"right\" width=\"300\" src=\"https://data-services.hosting.nyu.edu/assets/libraries_short_color.png\" alt=\"NYU Libraries Logo\">\n",
    "\n",
<<<<<<< HEAD
    "# Guidance for working with L2 political data voter files\n",
=======
    "# L2 Political Data Voter Files\n",
>>>>>>> 986566042af05d5850664a907c4ca8e557507f34
    "\n",
    "**Overview:** The L2 Political files come in two parts for each state: Demographic indicators and Voter History. Both are .tab files (tab delimited) and will need to be extracted. It is likely that you'll need to use a command line tool to decompress each archive. \n",
    "\n",
    "For larger states, you will want to redact parts of these files by only loading the minimum number of variables that you need into memory, merge them together, then sample them in order to perform analysis.\n",
    "\n",
    "This notebook is designed to provide some guidance on working with the data and creating extracts in a memory-efficient manner. It uses Python Libraries that are included with the Anacondas distribution, with the exception of [Pyjanitor](https://pyjanitor.readthedocs.io/index.html). In order to install it, run\n",
    "\n",
    "`conda install pyjanitor -c conda-forge`\n",
    "\n",
    "The conda distribution here seems to work the best (as opposed to pip). See the documentation for each of these libraries (especially Pandas) for more information. You will need to restart your Kernel and notebook before proceeding if you haven't already installed Pyjanitor. \n",
    "\n",
    "Users are expected to have agreed to the Terms of Use and should create redacted versions of the data that strip out identifying information and load only variables that are important for analysis. For the latest documentation, visit the [L2 Political LibGuide](https://guides.nyu.edu/l2political)"
   ]
  },
  {
   "cell_type": "markdown",
   "metadata": {
    "id": "SW9OIDdz3C1H"
   },
   "source": [
    "## I. Loading Python modules and L2 Data\n",
    "\n",
    "Begin by importing some basic libraries to work with the data "
   ]
  },
  {
   "cell_type": "code",
<<<<<<< HEAD
<<<<<<< HEAD
   "execution_count": 2,
=======
   "execution_count": 4,
>>>>>>> 986566042af05d5850664a907c4ca8e557507f34
=======
   "execution_count": 13,
>>>>>>> 2764511ae8a113547f8e1f5e4e12dfb36c97ed9f
   "metadata": {
    "id": "Py2Tc0A23C1I"
   },
   "outputs": [],
   "source": [
    "import pandas as pd\n",
<<<<<<< HEAD
    "#import janitor\n",
=======
    "import janitor\n",
<<<<<<< HEAD
>>>>>>> 986566042af05d5850664a907c4ca8e557507f34
    "from zipfile import ZipFile "
=======
    "from zipfile import ZipFile \n",
    "import pandas as pd\n",
    "import os"
>>>>>>> 2764511ae8a113547f8e1f5e4e12dfb36c97ed9f
   ]
  },
  {
   "cell_type": "markdown",
   "metadata": {
    "id": "QrdJ7sFa3C1I"
   },
   "source": [
    "**Loading .tab files**\n",
    "\n",
    "First, we read in the .tab file of demographic variables, declare the tab as the separator, and set the encoding\n",
    "\n",
    "There are 646 columns in the demographic file, and it's better to set the datetype as string (labeled \"object\" in Pandas) for each of them and only load certian columns to cut down on memory usage.\n",
    "\n",
    "Declare the columns you want; see the codebook for the full list and don't take PID columns.\n"
   ]
  },
  {
   "cell_type": "code",
   "execution_count": 12,
   "metadata": {
    "colab": {
     "base_uri": "https://localhost:8080/",
     "height": 346
    },
    "id": "5krNyelu8BDf",
    "outputId": "063e03b2-8cc6-471a-8714-d0215fdcf1ba"
   },
   "outputs": [
<<<<<<< HEAD
    {
     "name": "stdout",
     "output_type": "stream",
     "text": [
      "File Name                                             Modified             Size\n",
      "VM2--AK--2020-03-18-DEMOGRAPHIC.tab            2020-03-18 06:00:52    946874201\n",
      "VM2--AK--2020-03-18-DEMOGRAPHIC_DataDictionary.csv 2020-03-18 06:01:36        50636\n",
      "VM2--AK--2020-03-18-VOTEHISTORY.tab            2020-03-18 06:01:26    232088964\n",
      "VM2--AK--2020-03-18-VOTEHISTORY_DataDictionary.csv 2020-03-18 06:01:36        14415\n",
      "Extracting all the files now...\n",
      "Done!\n"
     ]
    }
   ],
   "source": [
    "# importing required modules \n",
    "  \n",
    "# specifying the zip file name \n",
    "file_name = \"//storage.rcs.nyu.edu/L2_Political/03-01-2020-delivery/files-by-state/VM2--AK--2020-03-18.zip\"\n",
    "\n",
    "# opening the zip file in READ mode \n",
    "with ZipFile(file_name, 'r') as zip: \n",
    "    # printing all the contents of the zip file \n",
    "    zip.printdir() \n",
    "  \n",
    "    # extracting all the files \n",
    "    print('Extracting all the files now...') \n",
    "    zip.extractall(\"VM2--AK--2020-03-18\") \n",
    "    print('Done!') \n",
    "\n",
    "    "
   ]
  },
  {
   "cell_type": "code",
   "execution_count": 19,
   "metadata": {
    "scrolled": false
   },
   "outputs": [
    {
     "name": "stdout",
     "output_type": "stream",
     "text": [
      "   SEQUENCE      LALVOTERID Voters_Active  Voters_StateVoterID  \\\n",
      "0         1  LALAK410126890             A              1135871   \n",
      "1         2  LALAK504532417             A              1230757   \n",
      "2         3  LALAK177113938             A               994519   \n",
      "3         4  LALAK177127696             A               994764   \n",
      "4         5  LALAK470911183             A              1202491   \n",
      "\n",
      "   Voters_CountyVoterID  VoterTelephones_LandlineAreaCode  \\\n",
      "0                   NaN                               NaN   \n",
      "1                   NaN                               NaN   \n",
      "2                   NaN                               NaN   \n",
      "3                   NaN                               NaN   \n",
      "4                   NaN                               NaN   \n",
      "\n",
      "  VoterTelephones_Landline7Digit VoterTelephones_LandlineFormatted  \\\n",
      "0                            NaN                               NaN   \n",
      "1                            NaN                               NaN   \n",
      "2                            NaN                               NaN   \n",
      "3                            NaN                               NaN   \n",
      "4                            NaN                               NaN   \n",
      "\n",
      "   VoterTelephones_LandlineUnformatted  \\\n",
      "0                                  NaN   \n",
      "1                                  NaN   \n",
      "2                                  NaN   \n",
      "3                                  NaN   \n",
      "4                                  NaN   \n",
      "\n",
      "   VoterTelephones_LandlineConfidenceCode  ...  \\\n",
      "0                                     NaN  ...   \n",
      "1                                     NaN  ...   \n",
      "2                                     NaN  ...   \n",
      "3                                     NaN  ...   \n",
      "4                                     NaN  ...   \n",
      "\n",
      "  ElectionReturns_P18PrecinctTurnoutAllRegisteredVoters  \\\n",
      "0                                                19%      \n",
      "1                                                19%      \n",
      "2                                                19%      \n",
      "3                                                19%      \n",
      "4                                                19%      \n",
      "\n",
      "  ElectionReturns_P18PrecinctTurnoutDemocrats  \\\n",
      "0                                         19%   \n",
      "1                                         19%   \n",
      "2                                         19%   \n",
      "3                                         19%   \n",
      "4                                         19%   \n",
      "\n",
      "   ElectionReturns_P18PrecinctTurnoutRepublicans  FECDonors_AvgDonation  \\\n",
      "0                                            26%                    NaN   \n",
      "1                                            26%                    NaN   \n",
      "2                                            26%                    NaN   \n",
      "3                                            26%                    NaN   \n",
      "4                                            26%                    NaN   \n",
      "\n",
      "  FECDonors_AvgDonation_Range FECDonors_LastDonationDate  \\\n",
      "0                         NaN                        NaN   \n",
      "1                         NaN                        NaN   \n",
      "2                         NaN                        NaN   \n",
      "3                         NaN                        NaN   \n",
      "4                         NaN                        NaN   \n",
      "\n",
      "  FECDonors_NumberOfDonations FECDonors_PrimaryRecipientOfContributions  \\\n",
      "0                         NaN                                       NaN   \n",
      "1                         NaN                                       NaN   \n",
      "2                         NaN                                       NaN   \n",
      "3                         NaN                                       NaN   \n",
      "4                         NaN                                       NaN   \n",
      "\n",
      "  FECDonors_TotalDonationsAmount FECDonors_TotalDonationsAmt_Range  \n",
      "0                            NaN                               NaN  \n",
      "1                            NaN                               NaN  \n",
      "2                            NaN                               NaN  \n",
      "3                            NaN                               NaN  \n",
      "4                            NaN                               NaN  \n",
      "\n",
      "[5 rows x 646 columns]\n",
      "       LALVOTERID  Special_2019_11_05 Local_or_Municipal_2019_10_01  \\\n",
      "0  LALAK410126890                 NaN                           NaN   \n",
      "1  LALAK504532417                 NaN                           NaN   \n",
      "2  LALAK177113938                 NaN                           NaN   \n",
      "3  LALAK177127696                 NaN                           NaN   \n",
      "4  LALAK470911183                 NaN                             Y   \n",
      "\n",
      "   Special_2019_09_10  Local_or_Municipal_2019_05_07  \\\n",
      "0                 NaN                            NaN   \n",
      "1                 NaN                            NaN   \n",
      "2                 NaN                            NaN   \n",
      "3                 NaN                            NaN   \n",
      "4                 NaN                            NaN   \n",
      "\n",
      "   Local_or_Municipal_2019_04_02  Special_2019_03_26  Special_2019_03_19  \\\n",
      "0                            NaN                 NaN                 NaN   \n",
      "1                            NaN                 NaN                 NaN   \n",
      "2                            NaN                 NaN                 NaN   \n",
      "3                            NaN                 NaN                 NaN   \n",
      "4                            NaN                 NaN                 NaN   \n",
      "\n",
      "   Local_or_Municipal_2019_03_05  Special_2019_03_05  ...  \\\n",
      "0                            NaN                 NaN  ...   \n",
      "1                            NaN                 NaN  ...   \n",
      "2                            NaN                 NaN  ...   \n",
      "3                            NaN                 NaN  ...   \n",
      "4                            NaN                 NaN  ...   \n",
      "\n",
      "  BallotReturnDate_General_2018_11_06  BallotReturnDate_Primary_2018_08_21  \\\n",
      "0                                 NaN                                  NaN   \n",
      "1                                 NaN                                  NaN   \n",
      "2                                 NaN                                  NaN   \n",
      "3                                 NaN                                  NaN   \n",
      "4                                 NaN                                  NaN   \n",
      "\n",
      "   BallotReturnDate_General_2016_11_08  BallotReturnDate_Primary_2016_08_16  \\\n",
      "0                                  NaN                                  NaN   \n",
      "1                                  NaN                                  NaN   \n",
      "2                                  NaN                                  NaN   \n",
      "3                                  NaN                                  NaN   \n",
      "4                                  NaN                                  NaN   \n",
      "\n",
      "  BallotReturnDate_General_2014_11_04  BallotReturnDate_Primary_2014_08_19  \\\n",
      "0                                 NaN                                  NaN   \n",
      "1                                 NaN                                  NaN   \n",
      "2                                 NaN                                  NaN   \n",
      "3                                 NaN                                  NaN   \n",
      "4                                 NaN                                  NaN   \n",
      "\n",
      "   BallotReturnDate_General_2012_11_06  BallotReturnDate_Primary_2012_08_28  \\\n",
      "0                                  NaN                                  NaN   \n",
      "1                                  NaN                                  NaN   \n",
      "2                                  NaN                                  NaN   \n",
      "3                                  NaN                                  NaN   \n",
      "4                                  NaN                                  NaN   \n",
      "\n",
      "   BallotReturnDate_General_2010_11_02  BallotReturnDate_Primary_2010_08_24  \n",
      "0                                  NaN                                  NaN  \n",
      "1                                  NaN                                  NaN  \n",
      "2                                  NaN                                  NaN  \n",
      "3                                  NaN                                  NaN  \n",
      "4                                  NaN                                  NaN  \n",
      "\n",
      "[5 rows x 308 columns]\n",
      "VM2--AK--2020-03-18-VOTEHISTORY_DataDictionary.csv\n"
     ]
    }
   ],
   "source": [
    "for file in os.listdir('VM2--AK--2020-03-18'):\n",
    "    filename = os.fsdecode(file)\n",
    "    #reads through any file thats csv or tab\n",
    "    if filename.endswith(\".tab\"): \n",
    "        #dataframe is name of file \n",
    "        filename = pd.read_csv(r'{}'.format(filename), sep='\\t', encoding='utf-8', nrows= 100)        \n",
    "        \n",
    "\n",
    "#take out nulls of 95% "
   ]
  },
  {
   "cell_type": "code",
   "execution_count": null,
   "metadata": {
    "colab": {
     "base_uri": "https://localhost:8080/",
     "height": 380
    },
    "id": "z6oV6TnK3C1J",
    "outputId": "13855820-46e5-4ed8-9890-2680a0041406",
    "scrolled": true
   },
   "outputs": [
    {
     "ename": "FileNotFoundError",
     "evalue": "ignored",
     "output_type": "error",
     "traceback": [
      "\u001b[0;31m---------------------------------------------------------------------------\u001b[0m",
      "\u001b[0;31mFileNotFoundError\u001b[0m                         Traceback (most recent call last)",
      "\u001b[0;32m<ipython-input-2-7edb0b48ace5>\u001b[0m in \u001b[0;36m<module>\u001b[0;34m()\u001b[0m\n\u001b[1;32m     10\u001b[0m state_demographic = pd.read_csv('VM2--VA--2020-03-01-DEMOGRAPHIC.tab', \n\u001b[1;32m     11\u001b[0m                                 \u001b[0msep\u001b[0m\u001b[0;34m=\u001b[0m\u001b[0;34m'\\t'\u001b[0m\u001b[0;34m,\u001b[0m \u001b[0mdtype\u001b[0m\u001b[0;34m=\u001b[0m\u001b[0mstr\u001b[0m\u001b[0;34m,\u001b[0m \u001b[0mencoding\u001b[0m\u001b[0;34m=\u001b[0m\u001b[0;34m'unicode_escape'\u001b[0m\u001b[0;34m,\u001b[0m\u001b[0;34m\u001b[0m\u001b[0;34m\u001b[0m\u001b[0m\n\u001b[0;32m---> 12\u001b[0;31m                                 usecols=selected_variables)\n\u001b[0m\u001b[1;32m     13\u001b[0m \u001b[0;34m\u001b[0m\u001b[0m\n\u001b[1;32m     14\u001b[0m \u001b[0;31m## Preview of the first 5 rows of the data subset.\u001b[0m\u001b[0;34m\u001b[0m\u001b[0;34m\u001b[0m\u001b[0;34m\u001b[0m\u001b[0m\n",
      "\u001b[0;32m/usr/local/lib/python3.6/dist-packages/pandas/io/parsers.py\u001b[0m in \u001b[0;36mread_csv\u001b[0;34m(filepath_or_buffer, sep, delimiter, header, names, index_col, usecols, squeeze, prefix, mangle_dupe_cols, dtype, engine, converters, true_values, false_values, skipinitialspace, skiprows, skipfooter, nrows, na_values, keep_default_na, na_filter, verbose, skip_blank_lines, parse_dates, infer_datetime_format, keep_date_col, date_parser, dayfirst, cache_dates, iterator, chunksize, compression, thousands, decimal, lineterminator, quotechar, quoting, doublequote, escapechar, comment, encoding, dialect, error_bad_lines, warn_bad_lines, delim_whitespace, low_memory, memory_map, float_precision)\u001b[0m\n\u001b[1;32m    686\u001b[0m     )\n\u001b[1;32m    687\u001b[0m \u001b[0;34m\u001b[0m\u001b[0m\n\u001b[0;32m--> 688\u001b[0;31m     \u001b[0;32mreturn\u001b[0m \u001b[0m_read\u001b[0m\u001b[0;34m(\u001b[0m\u001b[0mfilepath_or_buffer\u001b[0m\u001b[0;34m,\u001b[0m \u001b[0mkwds\u001b[0m\u001b[0;34m)\u001b[0m\u001b[0;34m\u001b[0m\u001b[0;34m\u001b[0m\u001b[0m\n\u001b[0m\u001b[1;32m    689\u001b[0m \u001b[0;34m\u001b[0m\u001b[0m\n\u001b[1;32m    690\u001b[0m \u001b[0;34m\u001b[0m\u001b[0m\n",
      "\u001b[0;32m/usr/local/lib/python3.6/dist-packages/pandas/io/parsers.py\u001b[0m in \u001b[0;36m_read\u001b[0;34m(filepath_or_buffer, kwds)\u001b[0m\n\u001b[1;32m    452\u001b[0m \u001b[0;34m\u001b[0m\u001b[0m\n\u001b[1;32m    453\u001b[0m     \u001b[0;31m# Create the parser.\u001b[0m\u001b[0;34m\u001b[0m\u001b[0;34m\u001b[0m\u001b[0;34m\u001b[0m\u001b[0m\n\u001b[0;32m--> 454\u001b[0;31m     \u001b[0mparser\u001b[0m \u001b[0;34m=\u001b[0m \u001b[0mTextFileReader\u001b[0m\u001b[0;34m(\u001b[0m\u001b[0mfp_or_buf\u001b[0m\u001b[0;34m,\u001b[0m \u001b[0;34m**\u001b[0m\u001b[0mkwds\u001b[0m\u001b[0;34m)\u001b[0m\u001b[0;34m\u001b[0m\u001b[0;34m\u001b[0m\u001b[0m\n\u001b[0m\u001b[1;32m    455\u001b[0m \u001b[0;34m\u001b[0m\u001b[0m\n\u001b[1;32m    456\u001b[0m     \u001b[0;32mif\u001b[0m \u001b[0mchunksize\u001b[0m \u001b[0;32mor\u001b[0m \u001b[0miterator\u001b[0m\u001b[0;34m:\u001b[0m\u001b[0;34m\u001b[0m\u001b[0;34m\u001b[0m\u001b[0m\n",
      "\u001b[0;32m/usr/local/lib/python3.6/dist-packages/pandas/io/parsers.py\u001b[0m in \u001b[0;36m__init__\u001b[0;34m(self, f, engine, **kwds)\u001b[0m\n\u001b[1;32m    946\u001b[0m             \u001b[0mself\u001b[0m\u001b[0;34m.\u001b[0m\u001b[0moptions\u001b[0m\u001b[0;34m[\u001b[0m\u001b[0;34m\"has_index_names\"\u001b[0m\u001b[0;34m]\u001b[0m \u001b[0;34m=\u001b[0m \u001b[0mkwds\u001b[0m\u001b[0;34m[\u001b[0m\u001b[0;34m\"has_index_names\"\u001b[0m\u001b[0;34m]\u001b[0m\u001b[0;34m\u001b[0m\u001b[0;34m\u001b[0m\u001b[0m\n\u001b[1;32m    947\u001b[0m \u001b[0;34m\u001b[0m\u001b[0m\n\u001b[0;32m--> 948\u001b[0;31m         \u001b[0mself\u001b[0m\u001b[0;34m.\u001b[0m\u001b[0m_make_engine\u001b[0m\u001b[0;34m(\u001b[0m\u001b[0mself\u001b[0m\u001b[0;34m.\u001b[0m\u001b[0mengine\u001b[0m\u001b[0;34m)\u001b[0m\u001b[0;34m\u001b[0m\u001b[0;34m\u001b[0m\u001b[0m\n\u001b[0m\u001b[1;32m    949\u001b[0m \u001b[0;34m\u001b[0m\u001b[0m\n\u001b[1;32m    950\u001b[0m     \u001b[0;32mdef\u001b[0m \u001b[0mclose\u001b[0m\u001b[0;34m(\u001b[0m\u001b[0mself\u001b[0m\u001b[0;34m)\u001b[0m\u001b[0;34m:\u001b[0m\u001b[0;34m\u001b[0m\u001b[0;34m\u001b[0m\u001b[0m\n",
      "\u001b[0;32m/usr/local/lib/python3.6/dist-packages/pandas/io/parsers.py\u001b[0m in \u001b[0;36m_make_engine\u001b[0;34m(self, engine)\u001b[0m\n\u001b[1;32m   1178\u001b[0m     \u001b[0;32mdef\u001b[0m \u001b[0m_make_engine\u001b[0m\u001b[0;34m(\u001b[0m\u001b[0mself\u001b[0m\u001b[0;34m,\u001b[0m \u001b[0mengine\u001b[0m\u001b[0;34m=\u001b[0m\u001b[0;34m\"c\"\u001b[0m\u001b[0;34m)\u001b[0m\u001b[0;34m:\u001b[0m\u001b[0;34m\u001b[0m\u001b[0;34m\u001b[0m\u001b[0m\n\u001b[1;32m   1179\u001b[0m         \u001b[0;32mif\u001b[0m \u001b[0mengine\u001b[0m \u001b[0;34m==\u001b[0m \u001b[0;34m\"c\"\u001b[0m\u001b[0;34m:\u001b[0m\u001b[0;34m\u001b[0m\u001b[0;34m\u001b[0m\u001b[0m\n\u001b[0;32m-> 1180\u001b[0;31m             \u001b[0mself\u001b[0m\u001b[0;34m.\u001b[0m\u001b[0m_engine\u001b[0m \u001b[0;34m=\u001b[0m \u001b[0mCParserWrapper\u001b[0m\u001b[0;34m(\u001b[0m\u001b[0mself\u001b[0m\u001b[0;34m.\u001b[0m\u001b[0mf\u001b[0m\u001b[0;34m,\u001b[0m \u001b[0;34m**\u001b[0m\u001b[0mself\u001b[0m\u001b[0;34m.\u001b[0m\u001b[0moptions\u001b[0m\u001b[0;34m)\u001b[0m\u001b[0;34m\u001b[0m\u001b[0;34m\u001b[0m\u001b[0m\n\u001b[0m\u001b[1;32m   1181\u001b[0m         \u001b[0;32melse\u001b[0m\u001b[0;34m:\u001b[0m\u001b[0;34m\u001b[0m\u001b[0;34m\u001b[0m\u001b[0m\n\u001b[1;32m   1182\u001b[0m             \u001b[0;32mif\u001b[0m \u001b[0mengine\u001b[0m \u001b[0;34m==\u001b[0m \u001b[0;34m\"python\"\u001b[0m\u001b[0;34m:\u001b[0m\u001b[0;34m\u001b[0m\u001b[0;34m\u001b[0m\u001b[0m\n",
      "\u001b[0;32m/usr/local/lib/python3.6/dist-packages/pandas/io/parsers.py\u001b[0m in \u001b[0;36m__init__\u001b[0;34m(self, src, **kwds)\u001b[0m\n\u001b[1;32m   1991\u001b[0m         \u001b[0;32mif\u001b[0m \u001b[0mkwds\u001b[0m\u001b[0;34m.\u001b[0m\u001b[0mget\u001b[0m\u001b[0;34m(\u001b[0m\u001b[0;34m\"compression\"\u001b[0m\u001b[0;34m)\u001b[0m \u001b[0;32mis\u001b[0m \u001b[0;32mNone\u001b[0m \u001b[0;32mand\u001b[0m \u001b[0mencoding\u001b[0m\u001b[0;34m:\u001b[0m\u001b[0;34m\u001b[0m\u001b[0;34m\u001b[0m\u001b[0m\n\u001b[1;32m   1992\u001b[0m             \u001b[0;32mif\u001b[0m \u001b[0misinstance\u001b[0m\u001b[0;34m(\u001b[0m\u001b[0msrc\u001b[0m\u001b[0;34m,\u001b[0m \u001b[0mstr\u001b[0m\u001b[0;34m)\u001b[0m\u001b[0;34m:\u001b[0m\u001b[0;34m\u001b[0m\u001b[0;34m\u001b[0m\u001b[0m\n\u001b[0;32m-> 1993\u001b[0;31m                 \u001b[0msrc\u001b[0m \u001b[0;34m=\u001b[0m \u001b[0mopen\u001b[0m\u001b[0;34m(\u001b[0m\u001b[0msrc\u001b[0m\u001b[0;34m,\u001b[0m \u001b[0;34m\"rb\"\u001b[0m\u001b[0;34m)\u001b[0m\u001b[0;34m\u001b[0m\u001b[0;34m\u001b[0m\u001b[0m\n\u001b[0m\u001b[1;32m   1994\u001b[0m                 \u001b[0mself\u001b[0m\u001b[0;34m.\u001b[0m\u001b[0mhandles\u001b[0m\u001b[0;34m.\u001b[0m\u001b[0mappend\u001b[0m\u001b[0;34m(\u001b[0m\u001b[0msrc\u001b[0m\u001b[0;34m)\u001b[0m\u001b[0;34m\u001b[0m\u001b[0;34m\u001b[0m\u001b[0m\n\u001b[1;32m   1995\u001b[0m \u001b[0;34m\u001b[0m\u001b[0m\n",
      "\u001b[0;31mFileNotFoundError\u001b[0m: [Errno 2] No such file or directory: 'VM2--VA--2020-03-01-DEMOGRAPHIC.tab'"
     ]
    }
   ],
   "source": [
    "selected_variables = ['LALVOTERID',\n",
    "                      'Residence_Addresses_Latitude',\n",
    "                      'Residence_Addresses_Longitude',\n",
    "                      'Voters_Gender',\n",
    "                      'Voters_FIPS']\n",
    "\n",
    "## Change the file path below accordingly to point toward the relevant file. Note that this data loading step below\n",
    "## will take the longest out of any step for your computer to process\n",
    "\n",
    "state_demographic = pd.read_csv('VM2--VA--2020-03-01-DEMOGRAPHIC.tab', \n",
    "                                sep='\\t', dtype=str, encoding='unicode_escape',\n",
    "                                usecols=selected_variables)\n",
    "\n",
    "## Preview of the first 5 rows of the data subset. \n",
    "\n",
    "state_demographic.head(5)"
   ]
  },
  {
   "cell_type": "markdown",
   "metadata": {
    "id": "x_2S1qHo3C1K"
   },
   "source": [
    "It's also not a bad idea to test the length of the entire file and verify it with the number of records on the documentation"
   ]
  },
  {
   "cell_type": "code",
   "execution_count": null,
   "metadata": {
    "id": "iEfqLokF3C1K",
    "outputId": "ead387c5-8cfd-41bb-9da8-d7f2a932858b",
    "scrolled": true
   },
   "outputs": [
    {
     "data": {
      "text/plain": [
       "5264320"
      ]
     },
     "execution_count": 3,
     "metadata": {
      "tags": []
     },
     "output_type": "execute_result"
    }
   ],
   "source": [
    "len(state_demographic)"
   ]
  },
  {
   "cell_type": "markdown",
   "metadata": {
    "id": "eFEU04zM3C1K"
   },
   "source": [
    "You can also run .info to get a breakdown, including how much memory the data frame is eating up.\n",
    "\n",
    "This will give you context for how much your computer can handle."
   ]
  },
  {
   "cell_type": "code",
   "execution_count": null,
   "metadata": {
    "id": "Gv7Ja5uq3C1L",
    "outputId": "59740133-4de5-458d-eebd-92618d72ba59"
   },
   "outputs": [
    {
     "name": "stdout",
     "output_type": "stream",
     "text": [
      "<class 'pandas.core.frame.DataFrame'>\n",
      "RangeIndex: 5264320 entries, 0 to 5264319\n",
      "Data columns (total 5 columns):\n",
      " #   Column                         Dtype \n",
      "---  ------                         ----- \n",
      " 0   LALVOTERID                     object\n",
      " 1   Residence_Addresses_Latitude   object\n",
      " 2   Residence_Addresses_Longitude  object\n",
      " 3   Voters_Gender                  object\n",
      " 4   Voters_FIPS                    object\n",
      "dtypes: object(5)\n",
      "memory usage: 200.8+ MB\n"
     ]
    }
   ],
   "source": [
    "state_demographic.info()"
   ]
  },
  {
   "cell_type": "markdown",
   "metadata": {
    "id": "4w-dxY0m3C1L"
   },
   "source": [
    "Next, we will read into memory the voter history file that corresponds to the state.\n",
    "\n",
    "This time, we make sure to include the *LALVOTERID* column, and we will add whether or not they voted in 2016."
   ]
  },
  {
   "cell_type": "code",
   "execution_count": null,
   "metadata": {
    "id": "TkOaFvjI3C1M",
    "outputId": "5c3fd258-d206-4b50-fe37-64872c8abd4d"
   },
   "outputs": [
    {
     "data": {
      "text/html": [
       "<div>\n",
       "<style scoped>\n",
       "    .dataframe tbody tr th:only-of-type {\n",
       "        vertical-align: middle;\n",
       "    }\n",
       "\n",
       "    .dataframe tbody tr th {\n",
       "        vertical-align: top;\n",
       "    }\n",
       "\n",
       "    .dataframe thead th {\n",
       "        text-align: right;\n",
       "    }\n",
       "</style>\n",
       "<table border=\"1\" class=\"dataframe\">\n",
       "  <thead>\n",
       "    <tr style=\"text-align: right;\">\n",
       "      <th></th>\n",
       "      <th>LALVOTERID</th>\n",
       "      <th>General_2016_11_08</th>\n",
       "    </tr>\n",
       "  </thead>\n",
       "  <tbody>\n",
       "    <tr>\n",
       "      <th>0</th>\n",
       "      <td>LALVA167958824</td>\n",
       "      <td>Y</td>\n",
       "    </tr>\n",
       "    <tr>\n",
       "      <th>1</th>\n",
       "      <td>LALVA516951467</td>\n",
       "      <td>NaN</td>\n",
       "    </tr>\n",
       "    <tr>\n",
       "      <th>2</th>\n",
       "      <td>LALVA462558999</td>\n",
       "      <td>Y</td>\n",
       "    </tr>\n",
       "    <tr>\n",
       "      <th>3</th>\n",
       "      <td>LALVA462552402</td>\n",
       "      <td>Y</td>\n",
       "    </tr>\n",
       "    <tr>\n",
       "      <th>4</th>\n",
       "      <td>LALVA4161517</td>\n",
       "      <td>Y</td>\n",
       "    </tr>\n",
       "  </tbody>\n",
       "</table>\n",
       "</div>"
      ],
      "text/plain": [
       "       LALVOTERID General_2016_11_08\n",
       "0  LALVA167958824                  Y\n",
       "1  LALVA516951467                NaN\n",
       "2  LALVA462558999                  Y\n",
       "3  LALVA462552402                  Y\n",
       "4    LALVA4161517                  Y"
      ]
     },
     "execution_count": 5,
     "metadata": {
      "tags": []
     },
     "output_type": "execute_result"
    }
   ],
   "source": [
    "needed_variables = ['LALVOTERID', 'General_2016_11_08']\n",
    "\n",
    "state_voterhistory = pd.read_csv('VM2--VA--2020-03-01-VOTEHISTORY.tab',\n",
    "                                 sep='\\t', dtype=str, encoding='unicode_escape',\n",
    "                                 usecols=needed_variables)\n",
    "                                \n",
    "state_voterhistory.head(5)"
=======
    {
     "ename": "FileNotFoundError",
     "evalue": "ignored",
     "output_type": "error",
     "traceback": [
      "\u001b[0;31m---------------------------------------------------------------------------\u001b[0m",
      "\u001b[0;31mFileNotFoundError\u001b[0m                         Traceback (most recent call last)",
      "\u001b[0;32m<ipython-input-5-0547be18725d>\u001b[0m in \u001b[0;36m<module>\u001b[0;34m()\u001b[0m\n\u001b[1;32m      5\u001b[0m \u001b[0;34m\u001b[0m\u001b[0m\n\u001b[1;32m      6\u001b[0m \u001b[0;31m# opening the zip file in READ mode\u001b[0m\u001b[0;34m\u001b[0m\u001b[0;34m\u001b[0m\u001b[0;34m\u001b[0m\u001b[0m\n\u001b[0;32m----> 7\u001b[0;31m \u001b[0;32mwith\u001b[0m \u001b[0mZipFile\u001b[0m\u001b[0;34m(\u001b[0m\u001b[0mfile_name\u001b[0m\u001b[0;34m,\u001b[0m \u001b[0;34m'r'\u001b[0m\u001b[0;34m)\u001b[0m \u001b[0;32mas\u001b[0m \u001b[0mzip\u001b[0m\u001b[0;34m:\u001b[0m\u001b[0;34m\u001b[0m\u001b[0;34m\u001b[0m\u001b[0m\n\u001b[0m\u001b[1;32m      8\u001b[0m     \u001b[0;31m# printing all the contents of the zip file\u001b[0m\u001b[0;34m\u001b[0m\u001b[0;34m\u001b[0m\u001b[0;34m\u001b[0m\u001b[0m\n\u001b[1;32m      9\u001b[0m     \u001b[0mzip\u001b[0m\u001b[0;34m.\u001b[0m\u001b[0mprintdir\u001b[0m\u001b[0;34m(\u001b[0m\u001b[0;34m)\u001b[0m\u001b[0;34m\u001b[0m\u001b[0;34m\u001b[0m\u001b[0m\n",
      "\u001b[0;32m/usr/lib/python3.6/zipfile.py\u001b[0m in \u001b[0;36m__init__\u001b[0;34m(self, file, mode, compression, allowZip64)\u001b[0m\n\u001b[1;32m   1111\u001b[0m             \u001b[0;32mwhile\u001b[0m \u001b[0;32mTrue\u001b[0m\u001b[0;34m:\u001b[0m\u001b[0;34m\u001b[0m\u001b[0;34m\u001b[0m\u001b[0m\n\u001b[1;32m   1112\u001b[0m                 \u001b[0;32mtry\u001b[0m\u001b[0;34m:\u001b[0m\u001b[0;34m\u001b[0m\u001b[0;34m\u001b[0m\u001b[0m\n\u001b[0;32m-> 1113\u001b[0;31m                     \u001b[0mself\u001b[0m\u001b[0;34m.\u001b[0m\u001b[0mfp\u001b[0m \u001b[0;34m=\u001b[0m \u001b[0mio\u001b[0m\u001b[0;34m.\u001b[0m\u001b[0mopen\u001b[0m\u001b[0;34m(\u001b[0m\u001b[0mfile\u001b[0m\u001b[0;34m,\u001b[0m \u001b[0mfilemode\u001b[0m\u001b[0;34m)\u001b[0m\u001b[0;34m\u001b[0m\u001b[0;34m\u001b[0m\u001b[0m\n\u001b[0m\u001b[1;32m   1114\u001b[0m                 \u001b[0;32mexcept\u001b[0m \u001b[0mOSError\u001b[0m\u001b[0;34m:\u001b[0m\u001b[0;34m\u001b[0m\u001b[0;34m\u001b[0m\u001b[0m\n\u001b[1;32m   1115\u001b[0m                     \u001b[0;32mif\u001b[0m \u001b[0mfilemode\u001b[0m \u001b[0;32min\u001b[0m \u001b[0mmodeDict\u001b[0m\u001b[0;34m:\u001b[0m\u001b[0;34m\u001b[0m\u001b[0;34m\u001b[0m\u001b[0m\n",
      "\u001b[0;31mFileNotFoundError\u001b[0m: [Errno 2] No such file or directory: '\\\\storage.rcs.nyu.edu\\\\L2_Political\\x03-01-2020-delivery\\x0ciles-by-state\\\\VM2--AK--2020-03-18.zip'"
     ]
    }
   ],
   "source": [
    "# importing required modules \n",
    "  \n",
    "# specifying the zip file name \n",
    "file_name = \"\\\\storage.rcs.nyu.edu\\L2_Political\\03-01-2020-delivery\\files-by-state\\VM2--AK--2020-03-18.zip\"\n",
    "  \n",
    "# opening the zip file in READ mode \n",
    "with ZipFile(file_name, 'r') as zip: \n",
    "    # printing all the contents of the zip file \n",
    "    zip.printdir() \n",
    "  \n",
    "    # extracting all the files \n",
    "    #zip.extractall() "
>>>>>>> 986566042af05d5850664a907c4ca8e557507f34
   ]
  },
  {
   "cell_type": "code",
   "execution_count": null,
   "metadata": {
<<<<<<< HEAD
    "id": "THzMI17w3C1M",
    "outputId": "f7f0e739-9ea0-448b-a605-5db3a92c5908"
   },
   "outputs": [
    {
     "name": "stdout",
     "output_type": "stream",
     "text": [
      "<class 'pandas.core.frame.DataFrame'>\n",
      "RangeIndex: 5264320 entries, 0 to 5264319\n",
      "Data columns (total 2 columns):\n",
      " #   Column              Dtype \n",
      "---  ------              ----- \n",
      " 0   LALVOTERID          object\n",
      " 1   General_2016_11_08  object\n",
      "dtypes: object(2)\n",
      "memory usage: 80.3+ MB\n"
=======
    "colab": {
     "base_uri": "https://localhost:8080/",
     "height": 380
    },
    "id": "z6oV6TnK3C1J",
    "outputId": "13855820-46e5-4ed8-9890-2680a0041406",
    "scrolled": true
   },
   "outputs": [
    {
     "ename": "FileNotFoundError",
     "evalue": "ignored",
     "output_type": "error",
     "traceback": [
      "\u001b[0;31m---------------------------------------------------------------------------\u001b[0m",
      "\u001b[0;31mFileNotFoundError\u001b[0m                         Traceback (most recent call last)",
      "\u001b[0;32m<ipython-input-2-7edb0b48ace5>\u001b[0m in \u001b[0;36m<module>\u001b[0;34m()\u001b[0m\n\u001b[1;32m     10\u001b[0m state_demographic = pd.read_csv('VM2--VA--2020-03-01-DEMOGRAPHIC.tab', \n\u001b[1;32m     11\u001b[0m                                 \u001b[0msep\u001b[0m\u001b[0;34m=\u001b[0m\u001b[0;34m'\\t'\u001b[0m\u001b[0;34m,\u001b[0m \u001b[0mdtype\u001b[0m\u001b[0;34m=\u001b[0m\u001b[0mstr\u001b[0m\u001b[0;34m,\u001b[0m \u001b[0mencoding\u001b[0m\u001b[0;34m=\u001b[0m\u001b[0;34m'unicode_escape'\u001b[0m\u001b[0;34m,\u001b[0m\u001b[0;34m\u001b[0m\u001b[0;34m\u001b[0m\u001b[0m\n\u001b[0;32m---> 12\u001b[0;31m                                 usecols=selected_variables)\n\u001b[0m\u001b[1;32m     13\u001b[0m \u001b[0;34m\u001b[0m\u001b[0m\n\u001b[1;32m     14\u001b[0m \u001b[0;31m## Preview of the first 5 rows of the data subset.\u001b[0m\u001b[0;34m\u001b[0m\u001b[0;34m\u001b[0m\u001b[0;34m\u001b[0m\u001b[0m\n",
      "\u001b[0;32m/usr/local/lib/python3.6/dist-packages/pandas/io/parsers.py\u001b[0m in \u001b[0;36mread_csv\u001b[0;34m(filepath_or_buffer, sep, delimiter, header, names, index_col, usecols, squeeze, prefix, mangle_dupe_cols, dtype, engine, converters, true_values, false_values, skipinitialspace, skiprows, skipfooter, nrows, na_values, keep_default_na, na_filter, verbose, skip_blank_lines, parse_dates, infer_datetime_format, keep_date_col, date_parser, dayfirst, cache_dates, iterator, chunksize, compression, thousands, decimal, lineterminator, quotechar, quoting, doublequote, escapechar, comment, encoding, dialect, error_bad_lines, warn_bad_lines, delim_whitespace, low_memory, memory_map, float_precision)\u001b[0m\n\u001b[1;32m    686\u001b[0m     )\n\u001b[1;32m    687\u001b[0m \u001b[0;34m\u001b[0m\u001b[0m\n\u001b[0;32m--> 688\u001b[0;31m     \u001b[0;32mreturn\u001b[0m \u001b[0m_read\u001b[0m\u001b[0;34m(\u001b[0m\u001b[0mfilepath_or_buffer\u001b[0m\u001b[0;34m,\u001b[0m \u001b[0mkwds\u001b[0m\u001b[0;34m)\u001b[0m\u001b[0;34m\u001b[0m\u001b[0;34m\u001b[0m\u001b[0m\n\u001b[0m\u001b[1;32m    689\u001b[0m \u001b[0;34m\u001b[0m\u001b[0m\n\u001b[1;32m    690\u001b[0m \u001b[0;34m\u001b[0m\u001b[0m\n",
      "\u001b[0;32m/usr/local/lib/python3.6/dist-packages/pandas/io/parsers.py\u001b[0m in \u001b[0;36m_read\u001b[0;34m(filepath_or_buffer, kwds)\u001b[0m\n\u001b[1;32m    452\u001b[0m \u001b[0;34m\u001b[0m\u001b[0m\n\u001b[1;32m    453\u001b[0m     \u001b[0;31m# Create the parser.\u001b[0m\u001b[0;34m\u001b[0m\u001b[0;34m\u001b[0m\u001b[0;34m\u001b[0m\u001b[0m\n\u001b[0;32m--> 454\u001b[0;31m     \u001b[0mparser\u001b[0m \u001b[0;34m=\u001b[0m \u001b[0mTextFileReader\u001b[0m\u001b[0;34m(\u001b[0m\u001b[0mfp_or_buf\u001b[0m\u001b[0;34m,\u001b[0m \u001b[0;34m**\u001b[0m\u001b[0mkwds\u001b[0m\u001b[0;34m)\u001b[0m\u001b[0;34m\u001b[0m\u001b[0;34m\u001b[0m\u001b[0m\n\u001b[0m\u001b[1;32m    455\u001b[0m \u001b[0;34m\u001b[0m\u001b[0m\n\u001b[1;32m    456\u001b[0m     \u001b[0;32mif\u001b[0m \u001b[0mchunksize\u001b[0m \u001b[0;32mor\u001b[0m \u001b[0miterator\u001b[0m\u001b[0;34m:\u001b[0m\u001b[0;34m\u001b[0m\u001b[0;34m\u001b[0m\u001b[0m\n",
      "\u001b[0;32m/usr/local/lib/python3.6/dist-packages/pandas/io/parsers.py\u001b[0m in \u001b[0;36m__init__\u001b[0;34m(self, f, engine, **kwds)\u001b[0m\n\u001b[1;32m    946\u001b[0m             \u001b[0mself\u001b[0m\u001b[0;34m.\u001b[0m\u001b[0moptions\u001b[0m\u001b[0;34m[\u001b[0m\u001b[0;34m\"has_index_names\"\u001b[0m\u001b[0;34m]\u001b[0m \u001b[0;34m=\u001b[0m \u001b[0mkwds\u001b[0m\u001b[0;34m[\u001b[0m\u001b[0;34m\"has_index_names\"\u001b[0m\u001b[0;34m]\u001b[0m\u001b[0;34m\u001b[0m\u001b[0;34m\u001b[0m\u001b[0m\n\u001b[1;32m    947\u001b[0m \u001b[0;34m\u001b[0m\u001b[0m\n\u001b[0;32m--> 948\u001b[0;31m         \u001b[0mself\u001b[0m\u001b[0;34m.\u001b[0m\u001b[0m_make_engine\u001b[0m\u001b[0;34m(\u001b[0m\u001b[0mself\u001b[0m\u001b[0;34m.\u001b[0m\u001b[0mengine\u001b[0m\u001b[0;34m)\u001b[0m\u001b[0;34m\u001b[0m\u001b[0;34m\u001b[0m\u001b[0m\n\u001b[0m\u001b[1;32m    949\u001b[0m \u001b[0;34m\u001b[0m\u001b[0m\n\u001b[1;32m    950\u001b[0m     \u001b[0;32mdef\u001b[0m \u001b[0mclose\u001b[0m\u001b[0;34m(\u001b[0m\u001b[0mself\u001b[0m\u001b[0;34m)\u001b[0m\u001b[0;34m:\u001b[0m\u001b[0;34m\u001b[0m\u001b[0;34m\u001b[0m\u001b[0m\n",
      "\u001b[0;32m/usr/local/lib/python3.6/dist-packages/pandas/io/parsers.py\u001b[0m in \u001b[0;36m_make_engine\u001b[0;34m(self, engine)\u001b[0m\n\u001b[1;32m   1178\u001b[0m     \u001b[0;32mdef\u001b[0m \u001b[0m_make_engine\u001b[0m\u001b[0;34m(\u001b[0m\u001b[0mself\u001b[0m\u001b[0;34m,\u001b[0m \u001b[0mengine\u001b[0m\u001b[0;34m=\u001b[0m\u001b[0;34m\"c\"\u001b[0m\u001b[0;34m)\u001b[0m\u001b[0;34m:\u001b[0m\u001b[0;34m\u001b[0m\u001b[0;34m\u001b[0m\u001b[0m\n\u001b[1;32m   1179\u001b[0m         \u001b[0;32mif\u001b[0m \u001b[0mengine\u001b[0m \u001b[0;34m==\u001b[0m \u001b[0;34m\"c\"\u001b[0m\u001b[0;34m:\u001b[0m\u001b[0;34m\u001b[0m\u001b[0;34m\u001b[0m\u001b[0m\n\u001b[0;32m-> 1180\u001b[0;31m             \u001b[0mself\u001b[0m\u001b[0;34m.\u001b[0m\u001b[0m_engine\u001b[0m \u001b[0;34m=\u001b[0m \u001b[0mCParserWrapper\u001b[0m\u001b[0;34m(\u001b[0m\u001b[0mself\u001b[0m\u001b[0;34m.\u001b[0m\u001b[0mf\u001b[0m\u001b[0;34m,\u001b[0m \u001b[0;34m**\u001b[0m\u001b[0mself\u001b[0m\u001b[0;34m.\u001b[0m\u001b[0moptions\u001b[0m\u001b[0;34m)\u001b[0m\u001b[0;34m\u001b[0m\u001b[0;34m\u001b[0m\u001b[0m\n\u001b[0m\u001b[1;32m   1181\u001b[0m         \u001b[0;32melse\u001b[0m\u001b[0;34m:\u001b[0m\u001b[0;34m\u001b[0m\u001b[0;34m\u001b[0m\u001b[0m\n\u001b[1;32m   1182\u001b[0m             \u001b[0;32mif\u001b[0m \u001b[0mengine\u001b[0m \u001b[0;34m==\u001b[0m \u001b[0;34m\"python\"\u001b[0m\u001b[0;34m:\u001b[0m\u001b[0;34m\u001b[0m\u001b[0;34m\u001b[0m\u001b[0m\n",
      "\u001b[0;32m/usr/local/lib/python3.6/dist-packages/pandas/io/parsers.py\u001b[0m in \u001b[0;36m__init__\u001b[0;34m(self, src, **kwds)\u001b[0m\n\u001b[1;32m   1991\u001b[0m         \u001b[0;32mif\u001b[0m \u001b[0mkwds\u001b[0m\u001b[0;34m.\u001b[0m\u001b[0mget\u001b[0m\u001b[0;34m(\u001b[0m\u001b[0;34m\"compression\"\u001b[0m\u001b[0;34m)\u001b[0m \u001b[0;32mis\u001b[0m \u001b[0;32mNone\u001b[0m \u001b[0;32mand\u001b[0m \u001b[0mencoding\u001b[0m\u001b[0;34m:\u001b[0m\u001b[0;34m\u001b[0m\u001b[0;34m\u001b[0m\u001b[0m\n\u001b[1;32m   1992\u001b[0m             \u001b[0;32mif\u001b[0m \u001b[0misinstance\u001b[0m\u001b[0;34m(\u001b[0m\u001b[0msrc\u001b[0m\u001b[0;34m,\u001b[0m \u001b[0mstr\u001b[0m\u001b[0;34m)\u001b[0m\u001b[0;34m:\u001b[0m\u001b[0;34m\u001b[0m\u001b[0;34m\u001b[0m\u001b[0m\n\u001b[0;32m-> 1993\u001b[0;31m                 \u001b[0msrc\u001b[0m \u001b[0;34m=\u001b[0m \u001b[0mopen\u001b[0m\u001b[0;34m(\u001b[0m\u001b[0msrc\u001b[0m\u001b[0;34m,\u001b[0m \u001b[0;34m\"rb\"\u001b[0m\u001b[0;34m)\u001b[0m\u001b[0;34m\u001b[0m\u001b[0;34m\u001b[0m\u001b[0m\n\u001b[0m\u001b[1;32m   1994\u001b[0m                 \u001b[0mself\u001b[0m\u001b[0;34m.\u001b[0m\u001b[0mhandles\u001b[0m\u001b[0;34m.\u001b[0m\u001b[0mappend\u001b[0m\u001b[0;34m(\u001b[0m\u001b[0msrc\u001b[0m\u001b[0;34m)\u001b[0m\u001b[0;34m\u001b[0m\u001b[0;34m\u001b[0m\u001b[0m\n\u001b[1;32m   1995\u001b[0m \u001b[0;34m\u001b[0m\u001b[0m\n",
      "\u001b[0;31mFileNotFoundError\u001b[0m: [Errno 2] No such file or directory: 'VM2--VA--2020-03-01-DEMOGRAPHIC.tab'"
>>>>>>> 986566042af05d5850664a907c4ca8e557507f34
     ]
    }
   ],
   "source": [
<<<<<<< HEAD
    "## Again, I will want to run an .info command to test the size and memory\n",
    "\n",
    "state_voterhistory.info()"
=======
    "selected_variables = ['LALVOTERID',\n",
    "                      'Residence_Addresses_Latitude',\n",
    "                      'Residence_Addresses_Longitude',\n",
    "                      'Voters_Gender',\n",
    "                      'Voters_FIPS']\n",
    "\n",
    "## Change the file path below accordingly to point toward the relevant file. Note that this data loading step below\n",
    "## will take the longest out of any step for your computer to process\n",
    "\n",
    "state_demographic = pd.read_csv('VM2--VA--2020-03-01-DEMOGRAPHIC.tab', \n",
    "                                sep='\\t', dtype=str, encoding='unicode_escape',\n",
    "                                usecols=selected_variables)\n",
    "\n",
    "## Preview of the first 5 rows of the data subset. \n",
    "\n",
    "state_demographic.head(5)"
>>>>>>> 986566042af05d5850664a907c4ca8e557507f34
   ]
  },
  {
   "cell_type": "markdown",
   "metadata": {
<<<<<<< HEAD
    "id": "hTh5MV2B3C1N"
   },
   "source": [
    "## II. Join of Demographic and Voter History Tables\n",
    "\n",
    "Now that I have established a two reduced tables with a connection, I can join them (using the merge method in Pandas) based on the *LALVOTERID* common key\n"
=======
    "id": "x_2S1qHo3C1K"
   },
   "source": [
    "It's also not a bad idea to test the length of the entire file and verify it with the number of records on the documentation"
>>>>>>> 986566042af05d5850664a907c4ca8e557507f34
   ]
  },
  {
   "cell_type": "code",
   "execution_count": null,
   "metadata": {
<<<<<<< HEAD
    "id": "q1-lArtr3C1N",
    "outputId": "c4c0e86a-4bf7-40c8-e0cc-01b55011a711"
=======
    "id": "iEfqLokF3C1K",
    "outputId": "ead387c5-8cfd-41bb-9da8-d7f2a932858b",
    "scrolled": true
>>>>>>> 986566042af05d5850664a907c4ca8e557507f34
   },
   "outputs": [
    {
     "data": {
<<<<<<< HEAD
      "text/html": [
       "<div>\n",
       "<style scoped>\n",
       "    .dataframe tbody tr th:only-of-type {\n",
       "        vertical-align: middle;\n",
       "    }\n",
       "\n",
       "    .dataframe tbody tr th {\n",
       "        vertical-align: top;\n",
       "    }\n",
       "\n",
       "    .dataframe thead th {\n",
       "        text-align: right;\n",
       "    }\n",
       "</style>\n",
       "<table border=\"1\" class=\"dataframe\">\n",
       "  <thead>\n",
       "    <tr style=\"text-align: right;\">\n",
       "      <th></th>\n",
       "      <th>LALVOTERID</th>\n",
       "      <th>General_2016_11_08</th>\n",
       "      <th>Residence_Addresses_Latitude</th>\n",
       "      <th>Residence_Addresses_Longitude</th>\n",
       "      <th>Voters_Gender</th>\n",
       "      <th>Voters_FIPS</th>\n",
       "    </tr>\n",
       "  </thead>\n",
       "  <tbody>\n",
       "    <tr>\n",
       "      <th>0</th>\n",
       "      <td>LALVA167958824</td>\n",
       "      <td>Y</td>\n",
       "      <td>37.901764</td>\n",
       "      <td>-75.505997</td>\n",
       "      <td>F</td>\n",
       "      <td>001</td>\n",
       "    </tr>\n",
       "    <tr>\n",
       "      <th>1</th>\n",
       "      <td>LALVA516951467</td>\n",
       "      <td>NaN</td>\n",
       "      <td>37.901764</td>\n",
       "      <td>-75.505997</td>\n",
       "      <td>M</td>\n",
       "      <td>001</td>\n",
       "    </tr>\n",
       "    <tr>\n",
       "      <th>2</th>\n",
       "      <td>LALVA462558999</td>\n",
       "      <td>Y</td>\n",
       "      <td>37.901343</td>\n",
       "      <td>-75.566436</td>\n",
       "      <td>F</td>\n",
       "      <td>001</td>\n",
       "    </tr>\n",
       "    <tr>\n",
       "      <th>3</th>\n",
       "      <td>LALVA462552402</td>\n",
       "      <td>Y</td>\n",
       "      <td>37.901343</td>\n",
       "      <td>-75.566436</td>\n",
       "      <td>M</td>\n",
       "      <td>001</td>\n",
       "    </tr>\n",
       "    <tr>\n",
       "      <th>4</th>\n",
       "      <td>LALVA4161517</td>\n",
       "      <td>Y</td>\n",
       "      <td>37.807510</td>\n",
       "      <td>-75.607740</td>\n",
       "      <td>M</td>\n",
       "      <td>001</td>\n",
       "    </tr>\n",
       "  </tbody>\n",
       "</table>\n",
       "</div>"
      ],
      "text/plain": [
       "       LALVOTERID General_2016_11_08 Residence_Addresses_Latitude  \\\n",
       "0  LALVA167958824                  Y                    37.901764   \n",
       "1  LALVA516951467                NaN                    37.901764   \n",
       "2  LALVA462558999                  Y                    37.901343   \n",
       "3  LALVA462552402                  Y                    37.901343   \n",
       "4    LALVA4161517                  Y                    37.807510   \n",
       "\n",
       "  Residence_Addresses_Longitude Voters_Gender Voters_FIPS  \n",
       "0                    -75.505997             F         001  \n",
       "1                    -75.505997             M         001  \n",
       "2                    -75.566436             F         001  \n",
       "3                    -75.566436             M         001  \n",
       "4                    -75.607740             M         001  "
      ]
     },
     "execution_count": 7,
=======
      "text/plain": [
       "5264320"
      ]
     },
     "execution_count": 3,
>>>>>>> 986566042af05d5850664a907c4ca8e557507f34
     "metadata": {
      "tags": []
     },
     "output_type": "execute_result"
    }
   ],
   "source": [
<<<<<<< HEAD
    "merged_file = pd.merge(state_voterhistory, state_demographic,\n",
    "                       how='left', left_on='LALVOTERID', right_on='LALVOTERID')\n",
    "\n",
    "merged_file.head(5)"
=======
    "len(state_demographic)"
   ]
  },
  {
   "cell_type": "markdown",
   "metadata": {
    "id": "eFEU04zM3C1K"
   },
   "source": [
    "You can also run .info to get a breakdown, including how much memory the data frame is eating up.\n",
    "\n",
    "This will give you context for how much your computer can handle."
   ]
  },
  {
   "cell_type": "code",
   "execution_count": null,
   "metadata": {
    "id": "Gv7Ja5uq3C1L",
    "outputId": "59740133-4de5-458d-eebd-92618d72ba59"
   },
   "outputs": [
    {
     "name": "stdout",
     "output_type": "stream",
     "text": [
      "<class 'pandas.core.frame.DataFrame'>\n",
      "RangeIndex: 5264320 entries, 0 to 5264319\n",
      "Data columns (total 5 columns):\n",
      " #   Column                         Dtype \n",
      "---  ------                         ----- \n",
      " 0   LALVOTERID                     object\n",
      " 1   Residence_Addresses_Latitude   object\n",
      " 2   Residence_Addresses_Longitude  object\n",
      " 3   Voters_Gender                  object\n",
      " 4   Voters_FIPS                    object\n",
      "dtypes: object(5)\n",
      "memory usage: 200.8+ MB\n"
     ]
    }
   ],
   "source": [
    "state_demographic.info()"
>>>>>>> 986566042af05d5850664a907c4ca8e557507f34
   ]
  },
  {
   "cell_type": "markdown",
   "metadata": {
<<<<<<< HEAD
    "id": "jYxSxVfE3C1N"
   },
   "source": [
    "## III. Sampling the Records\n",
    "\n",
    "From here, you can sample the records. The frac argument is in percentage, so here, it's a one percent sample note that the sample function also guesses the dtype (which is proccess intensive) so it's better to do the sample after the final merge"
=======
    "id": "4w-dxY0m3C1L"
   },
   "source": [
    "Next, we will read into memory the voter history file that corresponds to the state.\n",
    "\n",
    "This time, we make sure to include the *LALVOTERID* column, and we will add whether or not they voted in 2016."
>>>>>>> 986566042af05d5850664a907c4ca8e557507f34
   ]
  },
  {
   "cell_type": "code",
   "execution_count": null,
   "metadata": {
<<<<<<< HEAD
    "id": "pB4N04gf3C1O",
    "outputId": "557c2e61-8834-4793-b5e0-4a0282efb0a6",
    "scrolled": true
=======
    "id": "TkOaFvjI3C1M",
    "outputId": "5c3fd258-d206-4b50-fe37-64872c8abd4d"
>>>>>>> 986566042af05d5850664a907c4ca8e557507f34
   },
   "outputs": [
    {
     "data": {
      "text/html": [
       "<div>\n",
       "<style scoped>\n",
       "    .dataframe tbody tr th:only-of-type {\n",
       "        vertical-align: middle;\n",
       "    }\n",
       "\n",
       "    .dataframe tbody tr th {\n",
       "        vertical-align: top;\n",
       "    }\n",
       "\n",
       "    .dataframe thead th {\n",
       "        text-align: right;\n",
       "    }\n",
       "</style>\n",
       "<table border=\"1\" class=\"dataframe\">\n",
       "  <thead>\n",
       "    <tr style=\"text-align: right;\">\n",
       "      <th></th>\n",
       "      <th>LALVOTERID</th>\n",
       "      <th>General_2016_11_08</th>\n",
<<<<<<< HEAD
       "      <th>Residence_Addresses_Latitude</th>\n",
       "      <th>Residence_Addresses_Longitude</th>\n",
       "      <th>Voters_Gender</th>\n",
       "      <th>Voters_FIPS</th>\n",
=======
>>>>>>> 986566042af05d5850664a907c4ca8e557507f34
       "    </tr>\n",
       "  </thead>\n",
       "  <tbody>\n",
       "    <tr>\n",
<<<<<<< HEAD
       "      <th>4506497</th>\n",
       "      <td>LALVA4381855</td>\n",
       "      <td>Y</td>\n",
       "      <td>36.861190</td>\n",
       "      <td>-76.266420</td>\n",
       "      <td>F</td>\n",
       "      <td>710</td>\n",
       "    </tr>\n",
       "    <tr>\n",
       "      <th>3220820</th>\n",
       "      <td>LALVA1954212</td>\n",
       "      <td>Y</td>\n",
       "      <td>37.228351</td>\n",
       "      <td>-79.976485</td>\n",
       "      <td>M</td>\n",
       "      <td>161</td>\n",
       "    </tr>\n",
       "    <tr>\n",
       "      <th>745576</th>\n",
       "      <td>LALVA738960</td>\n",
       "      <td>Y</td>\n",
       "      <td>37.509310</td>\n",
       "      <td>-77.649680</td>\n",
       "      <td>M</td>\n",
       "      <td>041</td>\n",
       "    </tr>\n",
       "    <tr>\n",
       "      <th>2152787</th>\n",
       "      <td>LALVA471745169</td>\n",
       "      <td>Y</td>\n",
       "      <td>36.985720</td>\n",
       "      <td>-76.612630</td>\n",
       "      <td>M</td>\n",
       "      <td>093</td>\n",
       "    </tr>\n",
       "    <tr>\n",
       "      <th>3196996</th>\n",
       "      <td>LALVA398865370</td>\n",
       "      <td>NaN</td>\n",
       "      <td>37.241560</td>\n",
       "      <td>-79.995220</td>\n",
       "      <td>M</td>\n",
       "      <td>161</td>\n",
=======
       "      <th>0</th>\n",
       "      <td>LALVA167958824</td>\n",
       "      <td>Y</td>\n",
       "    </tr>\n",
       "    <tr>\n",
       "      <th>1</th>\n",
       "      <td>LALVA516951467</td>\n",
       "      <td>NaN</td>\n",
       "    </tr>\n",
       "    <tr>\n",
       "      <th>2</th>\n",
       "      <td>LALVA462558999</td>\n",
       "      <td>Y</td>\n",
       "    </tr>\n",
       "    <tr>\n",
       "      <th>3</th>\n",
       "      <td>LALVA462552402</td>\n",
       "      <td>Y</td>\n",
       "    </tr>\n",
       "    <tr>\n",
       "      <th>4</th>\n",
       "      <td>LALVA4161517</td>\n",
       "      <td>Y</td>\n",
>>>>>>> 986566042af05d5850664a907c4ca8e557507f34
       "    </tr>\n",
       "  </tbody>\n",
       "</table>\n",
       "</div>"
      ],
      "text/plain": [
<<<<<<< HEAD
       "             LALVOTERID General_2016_11_08 Residence_Addresses_Latitude  \\\n",
       "4506497    LALVA4381855                  Y                    36.861190   \n",
       "3220820    LALVA1954212                  Y                    37.228351   \n",
       "745576      LALVA738960                  Y                    37.509310   \n",
       "2152787  LALVA471745169                  Y                    36.985720   \n",
       "3196996  LALVA398865370                NaN                    37.241560   \n",
       "\n",
       "        Residence_Addresses_Longitude Voters_Gender Voters_FIPS  \n",
       "4506497                    -76.266420             F         710  \n",
       "3220820                    -79.976485             M         161  \n",
       "745576                     -77.649680             M         041  \n",
       "2152787                    -76.612630             M         093  \n",
       "3196996                    -79.995220             M         161  "
      ]
     },
     "execution_count": 8,
=======
       "       LALVOTERID General_2016_11_08\n",
       "0  LALVA167958824                  Y\n",
       "1  LALVA516951467                NaN\n",
       "2  LALVA462558999                  Y\n",
       "3  LALVA462552402                  Y\n",
       "4    LALVA4161517                  Y"
      ]
     },
     "execution_count": 5,
>>>>>>> 986566042af05d5850664a907c4ca8e557507f34
     "metadata": {
      "tags": []
     },
     "output_type": "execute_result"
    }
   ],
   "source": [
<<<<<<< HEAD
    "state_sample = merged_file.sample(frac=0.01)\n",
    "\n",
    "state_sample.head(5)"
=======
    "needed_variables = ['LALVOTERID', 'General_2016_11_08']\n",
    "\n",
    "state_voterhistory = pd.read_csv('VM2--VA--2020-03-01-VOTEHISTORY.tab',\n",
    "                                 sep='\\t', dtype=str, encoding='unicode_escape',\n",
    "                                 usecols=needed_variables)\n",
    "                                \n",
    "state_voterhistory.head(5)"
   ]
  },
  {
   "cell_type": "code",
   "execution_count": null,
   "metadata": {
    "id": "THzMI17w3C1M",
    "outputId": "f7f0e739-9ea0-448b-a605-5db3a92c5908"
   },
   "outputs": [
    {
     "name": "stdout",
     "output_type": "stream",
     "text": [
      "<class 'pandas.core.frame.DataFrame'>\n",
      "RangeIndex: 5264320 entries, 0 to 5264319\n",
      "Data columns (total 2 columns):\n",
      " #   Column              Dtype \n",
      "---  ------              ----- \n",
      " 0   LALVOTERID          object\n",
      " 1   General_2016_11_08  object\n",
      "dtypes: object(2)\n",
      "memory usage: 80.3+ MB\n"
     ]
    }
   ],
   "source": [
    "## Again, I will want to run an .info command to test the size and memory\n",
    "\n",
    "state_voterhistory.info()"
>>>>>>> 986566042af05d5850664a907c4ca8e557507f34
   ]
  },
  {
   "cell_type": "markdown",
   "metadata": {
<<<<<<< HEAD
    "id": "n5IG3iW53C1O"
   },
   "source": [
    "Again, print out the info to see that its a valid sample size (actually one percent) and that it is using much less memory\n",
    "\n",
    "You'll know that the sampling worked if the index numbers are nonsequential and random also, you can test the length and info of your new sample"
=======
    "id": "hTh5MV2B3C1N"
   },
   "source": [
    "## II. Join of Demographic and Voter History Tables\n",
    "\n",
    "Now that I have established a two reduced tables with a connection, I can join them (using the merge method in Pandas) based on the *LALVOTERID* common key\n"
>>>>>>> 986566042af05d5850664a907c4ca8e557507f34
   ]
  },
  {
   "cell_type": "code",
   "execution_count": null,
   "metadata": {
<<<<<<< HEAD
    "id": "pKj6kNkO3C1O",
    "outputId": "1c111af5-eba6-4e64-fda9-99710a6e32bf"
   },
   "outputs": [
    {
     "name": "stdout",
     "output_type": "stream",
     "text": [
      "<class 'pandas.core.frame.DataFrame'>\n",
      "Int64Index: 52643 entries, 4506497 to 2917779\n",
      "Data columns (total 6 columns):\n",
      " #   Column                         Non-Null Count  Dtype \n",
      "---  ------                         --------------  ----- \n",
      " 0   LALVOTERID                     52643 non-null  object\n",
      " 1   General_2016_11_08             36531 non-null  object\n",
      " 2   Residence_Addresses_Latitude   52639 non-null  object\n",
      " 3   Residence_Addresses_Longitude  52639 non-null  object\n",
      " 4   Voters_Gender                  52643 non-null  object\n",
      " 5   Voters_FIPS                    52643 non-null  object\n",
      "dtypes: object(6)\n",
      "memory usage: 2.8+ MB\n"
     ]
    }
   ],
   "source": [
    "state_sample.info()"
   ]
  },
  {
   "cell_type": "markdown",
   "metadata": {
    "id": "wUFP_5Mo3C1P"
   },
   "source": [
    "## IV. Further Deidentifying Geocoded Locations: Jittering\n",
    "\n",
    "There are many other filtering and cleaning steps to be taken before writing out a new file\n",
    "\n",
    "For example, the coordinates can be identifying, even if you strip out all of the other PID variables, because they are geocoded to the address. You will want to jitter them if you intend to aggregate or visualize data.\n",
    "\n",
    "First, print out the data types to make sure what they are:"
   ]
  },
  {
   "cell_type": "code",
   "execution_count": null,
   "metadata": {
    "id": "xt8QmGzR3C1P",
    "outputId": "e191c1e7-b667-41f1-a7be-9471575f9791"
   },
   "outputs": [
    {
     "data": {
      "text/plain": [
       "LALVOTERID                       object\n",
       "General_2016_11_08               object\n",
       "Residence_Addresses_Latitude     object\n",
       "Residence_Addresses_Longitude    object\n",
       "Voters_Gender                    object\n",
       "Voters_FIPS                      object\n",
       "dtype: object"
      ]
     },
     "execution_count": 10,
=======
    "id": "q1-lArtr3C1N",
    "outputId": "c4c0e86a-4bf7-40c8-e0cc-01b55011a711"
   },
   "outputs": [
    {
     "data": {
      "text/html": [
       "<div>\n",
       "<style scoped>\n",
       "    .dataframe tbody tr th:only-of-type {\n",
       "        vertical-align: middle;\n",
       "    }\n",
       "\n",
       "    .dataframe tbody tr th {\n",
       "        vertical-align: top;\n",
       "    }\n",
       "\n",
       "    .dataframe thead th {\n",
       "        text-align: right;\n",
       "    }\n",
       "</style>\n",
       "<table border=\"1\" class=\"dataframe\">\n",
       "  <thead>\n",
       "    <tr style=\"text-align: right;\">\n",
       "      <th></th>\n",
       "      <th>LALVOTERID</th>\n",
       "      <th>General_2016_11_08</th>\n",
       "      <th>Residence_Addresses_Latitude</th>\n",
       "      <th>Residence_Addresses_Longitude</th>\n",
       "      <th>Voters_Gender</th>\n",
       "      <th>Voters_FIPS</th>\n",
       "    </tr>\n",
       "  </thead>\n",
       "  <tbody>\n",
       "    <tr>\n",
       "      <th>0</th>\n",
       "      <td>LALVA167958824</td>\n",
       "      <td>Y</td>\n",
       "      <td>37.901764</td>\n",
       "      <td>-75.505997</td>\n",
       "      <td>F</td>\n",
       "      <td>001</td>\n",
       "    </tr>\n",
       "    <tr>\n",
       "      <th>1</th>\n",
       "      <td>LALVA516951467</td>\n",
       "      <td>NaN</td>\n",
       "      <td>37.901764</td>\n",
       "      <td>-75.505997</td>\n",
       "      <td>M</td>\n",
       "      <td>001</td>\n",
       "    </tr>\n",
       "    <tr>\n",
       "      <th>2</th>\n",
       "      <td>LALVA462558999</td>\n",
       "      <td>Y</td>\n",
       "      <td>37.901343</td>\n",
       "      <td>-75.566436</td>\n",
       "      <td>F</td>\n",
       "      <td>001</td>\n",
       "    </tr>\n",
       "    <tr>\n",
       "      <th>3</th>\n",
       "      <td>LALVA462552402</td>\n",
       "      <td>Y</td>\n",
       "      <td>37.901343</td>\n",
       "      <td>-75.566436</td>\n",
       "      <td>M</td>\n",
       "      <td>001</td>\n",
       "    </tr>\n",
       "    <tr>\n",
       "      <th>4</th>\n",
       "      <td>LALVA4161517</td>\n",
       "      <td>Y</td>\n",
       "      <td>37.807510</td>\n",
       "      <td>-75.607740</td>\n",
       "      <td>M</td>\n",
       "      <td>001</td>\n",
       "    </tr>\n",
       "  </tbody>\n",
       "</table>\n",
       "</div>"
      ],
      "text/plain": [
       "       LALVOTERID General_2016_11_08 Residence_Addresses_Latitude  \\\n",
       "0  LALVA167958824                  Y                    37.901764   \n",
       "1  LALVA516951467                NaN                    37.901764   \n",
       "2  LALVA462558999                  Y                    37.901343   \n",
       "3  LALVA462552402                  Y                    37.901343   \n",
       "4    LALVA4161517                  Y                    37.807510   \n",
       "\n",
       "  Residence_Addresses_Longitude Voters_Gender Voters_FIPS  \n",
       "0                    -75.505997             F         001  \n",
       "1                    -75.505997             M         001  \n",
       "2                    -75.566436             F         001  \n",
       "3                    -75.566436             M         001  \n",
       "4                    -75.607740             M         001  "
      ]
     },
     "execution_count": 7,
>>>>>>> 986566042af05d5850664a907c4ca8e557507f34
     "metadata": {
      "tags": []
     },
     "output_type": "execute_result"
    }
   ],
   "source": [
<<<<<<< HEAD
    "state_sample.dtypes"
=======
    "merged_file = pd.merge(state_voterhistory, state_demographic,\n",
    "                       how='left', left_on='LALVOTERID', right_on='LALVOTERID')\n",
    "\n",
    "merged_file.head(5)"
   ]
  },
  {
   "cell_type": "markdown",
   "metadata": {
    "id": "jYxSxVfE3C1N"
   },
   "source": [
    "## III. Sampling the Records\n",
    "\n",
    "From here, you can sample the records. The frac argument is in percentage, so here, it's a one percent sample note that the sample function also guesses the dtype (which is proccess intensive) so it's better to do the sample after the final merge"
>>>>>>> 986566042af05d5850664a907c4ca8e557507f34
   ]
  },
  {
   "cell_type": "code",
   "execution_count": null,
   "metadata": {
<<<<<<< HEAD
    "id": "ALBc5ONd3C1Q",
    "outputId": "8605264b-304f-4c77-a6c9-f84cd6537d8e"
=======
    "id": "pB4N04gf3C1O",
    "outputId": "557c2e61-8834-4793-b5e0-4a0282efb0a6",
    "scrolled": true
>>>>>>> 986566042af05d5850664a907c4ca8e557507f34
   },
   "outputs": [
    {
     "data": {
<<<<<<< HEAD
      "text/plain": [
       "LALVOTERID                        object\n",
       "General_2016_11_08                object\n",
       "Residence_Addresses_Latitude     float64\n",
       "Residence_Addresses_Longitude    float64\n",
       "Voters_Gender                     object\n",
       "Voters_FIPS                       object\n",
       "dtype: object"
      ]
     },
     "execution_count": 11,
=======
      "text/html": [
       "<div>\n",
       "<style scoped>\n",
       "    .dataframe tbody tr th:only-of-type {\n",
       "        vertical-align: middle;\n",
       "    }\n",
       "\n",
       "    .dataframe tbody tr th {\n",
       "        vertical-align: top;\n",
       "    }\n",
       "\n",
       "    .dataframe thead th {\n",
       "        text-align: right;\n",
       "    }\n",
       "</style>\n",
       "<table border=\"1\" class=\"dataframe\">\n",
       "  <thead>\n",
       "    <tr style=\"text-align: right;\">\n",
       "      <th></th>\n",
       "      <th>LALVOTERID</th>\n",
       "      <th>General_2016_11_08</th>\n",
       "      <th>Residence_Addresses_Latitude</th>\n",
       "      <th>Residence_Addresses_Longitude</th>\n",
       "      <th>Voters_Gender</th>\n",
       "      <th>Voters_FIPS</th>\n",
       "    </tr>\n",
       "  </thead>\n",
       "  <tbody>\n",
       "    <tr>\n",
       "      <th>4506497</th>\n",
       "      <td>LALVA4381855</td>\n",
       "      <td>Y</td>\n",
       "      <td>36.861190</td>\n",
       "      <td>-76.266420</td>\n",
       "      <td>F</td>\n",
       "      <td>710</td>\n",
       "    </tr>\n",
       "    <tr>\n",
       "      <th>3220820</th>\n",
       "      <td>LALVA1954212</td>\n",
       "      <td>Y</td>\n",
       "      <td>37.228351</td>\n",
       "      <td>-79.976485</td>\n",
       "      <td>M</td>\n",
       "      <td>161</td>\n",
       "    </tr>\n",
       "    <tr>\n",
       "      <th>745576</th>\n",
       "      <td>LALVA738960</td>\n",
       "      <td>Y</td>\n",
       "      <td>37.509310</td>\n",
       "      <td>-77.649680</td>\n",
       "      <td>M</td>\n",
       "      <td>041</td>\n",
       "    </tr>\n",
       "    <tr>\n",
       "      <th>2152787</th>\n",
       "      <td>LALVA471745169</td>\n",
       "      <td>Y</td>\n",
       "      <td>36.985720</td>\n",
       "      <td>-76.612630</td>\n",
       "      <td>M</td>\n",
       "      <td>093</td>\n",
       "    </tr>\n",
       "    <tr>\n",
       "      <th>3196996</th>\n",
       "      <td>LALVA398865370</td>\n",
       "      <td>NaN</td>\n",
       "      <td>37.241560</td>\n",
       "      <td>-79.995220</td>\n",
       "      <td>M</td>\n",
       "      <td>161</td>\n",
       "    </tr>\n",
       "  </tbody>\n",
       "</table>\n",
       "</div>"
      ],
      "text/plain": [
       "             LALVOTERID General_2016_11_08 Residence_Addresses_Latitude  \\\n",
       "4506497    LALVA4381855                  Y                    36.861190   \n",
       "3220820    LALVA1954212                  Y                    37.228351   \n",
       "745576      LALVA738960                  Y                    37.509310   \n",
       "2152787  LALVA471745169                  Y                    36.985720   \n",
       "3196996  LALVA398865370                NaN                    37.241560   \n",
       "\n",
       "        Residence_Addresses_Longitude Voters_Gender Voters_FIPS  \n",
       "4506497                    -76.266420             F         710  \n",
       "3220820                    -79.976485             M         161  \n",
       "745576                     -77.649680             M         041  \n",
       "2152787                    -76.612630             M         093  \n",
       "3196996                    -79.995220             M         161  "
      ]
     },
     "execution_count": 8,
>>>>>>> 986566042af05d5850664a907c4ca8e557507f34
     "metadata": {
      "tags": []
     },
     "output_type": "execute_result"
    }
   ],
   "source": [
<<<<<<< HEAD
    "## In order to jitter the coordinates, you need to change them to a float\n",
    "\n",
    "state_sample['Residence_Addresses_Latitude'] = pd.to_numeric(state_sample['Residence_Addresses_Latitude']) \n",
    "state_sample['Residence_Addresses_Longitude'] = pd.to_numeric(state_sample['Residence_Addresses_Longitude']) \n",
    "\n",
    "state_sample.dtypes"
=======
    "state_sample = merged_file.sample(frac=0.01)\n",
    "\n",
    "state_sample.head(5)"
>>>>>>> 986566042af05d5850664a907c4ca8e557507f34
   ]
  },
  {
   "cell_type": "markdown",
   "metadata": {
<<<<<<< HEAD
    "id": "wvqPyYWn3C1Q"
   },
   "source": [
    "The module pyjanitor introduces a jitter method for dataframes that can be used to displace the exact coordinates of a location.\n",
    "\n",
    "We'll start with jittering the latitude. This library inserts a Gaussian distribution (\"noise\") equal to the standard deviation of the scale. The exact amount of the scale in jitter may need to change but this is a good starting place. You may want to test the results in a mapping software like QGIS or ArcMap before proceeding too far"
=======
    "id": "n5IG3iW53C1O"
   },
   "source": [
    "Again, print out the info to see that its a valid sample size (actually one percent) and that it is using much less memory\n",
    "\n",
    "You'll know that the sampling worked if the index numbers are nonsequential and random also, you can test the length and info of your new sample"
>>>>>>> 986566042af05d5850664a907c4ca8e557507f34
   ]
  },
  {
   "cell_type": "code",
   "execution_count": null,
   "metadata": {
<<<<<<< HEAD
    "id": "eJ7kTSS33C1R",
    "outputId": "629e4c9b-9b73-4a8f-f960-90d81809b160"
   },
   "outputs": [
    {
     "data": {
      "text/html": [
       "<div>\n",
       "<style scoped>\n",
       "    .dataframe tbody tr th:only-of-type {\n",
       "        vertical-align: middle;\n",
       "    }\n",
       "\n",
       "    .dataframe tbody tr th {\n",
       "        vertical-align: top;\n",
       "    }\n",
       "\n",
       "    .dataframe thead th {\n",
       "        text-align: right;\n",
       "    }\n",
       "</style>\n",
       "<table border=\"1\" class=\"dataframe\">\n",
       "  <thead>\n",
       "    <tr style=\"text-align: right;\">\n",
       "      <th></th>\n",
       "      <th>LALVOTERID</th>\n",
       "      <th>General_2016_11_08</th>\n",
       "      <th>Residence_Addresses_Latitude</th>\n",
       "      <th>Residence_Addresses_Longitude</th>\n",
       "      <th>Voters_Gender</th>\n",
       "      <th>Voters_FIPS</th>\n",
       "      <th>lat_jitter</th>\n",
       "    </tr>\n",
       "  </thead>\n",
       "  <tbody>\n",
       "    <tr>\n",
       "      <th>4506497</th>\n",
       "      <td>LALVA4381855</td>\n",
       "      <td>Y</td>\n",
       "      <td>36.861190</td>\n",
       "      <td>-76.266420</td>\n",
       "      <td>F</td>\n",
       "      <td>710</td>\n",
       "      <td>36.810290</td>\n",
       "    </tr>\n",
       "    <tr>\n",
       "      <th>3220820</th>\n",
       "      <td>LALVA1954212</td>\n",
       "      <td>Y</td>\n",
       "      <td>37.228351</td>\n",
       "      <td>-79.976485</td>\n",
       "      <td>M</td>\n",
       "      <td>161</td>\n",
       "      <td>37.255338</td>\n",
       "    </tr>\n",
       "    <tr>\n",
       "      <th>745576</th>\n",
       "      <td>LALVA738960</td>\n",
       "      <td>Y</td>\n",
       "      <td>37.509310</td>\n",
       "      <td>-77.649680</td>\n",
       "      <td>M</td>\n",
       "      <td>041</td>\n",
       "      <td>37.505897</td>\n",
       "    </tr>\n",
       "    <tr>\n",
       "      <th>2152787</th>\n",
       "      <td>LALVA471745169</td>\n",
       "      <td>Y</td>\n",
       "      <td>36.985720</td>\n",
       "      <td>-76.612630</td>\n",
       "      <td>M</td>\n",
       "      <td>093</td>\n",
       "      <td>36.955577</td>\n",
       "    </tr>\n",
       "    <tr>\n",
       "      <th>3196996</th>\n",
       "      <td>LALVA398865370</td>\n",
       "      <td>NaN</td>\n",
       "      <td>37.241560</td>\n",
       "      <td>-79.995220</td>\n",
       "      <td>M</td>\n",
       "      <td>161</td>\n",
       "      <td>37.181218</td>\n",
       "    </tr>\n",
       "  </tbody>\n",
       "</table>\n",
       "</div>"
      ],
      "text/plain": [
       "             LALVOTERID General_2016_11_08  Residence_Addresses_Latitude  \\\n",
       "4506497    LALVA4381855                  Y                     36.861190   \n",
       "3220820    LALVA1954212                  Y                     37.228351   \n",
       "745576      LALVA738960                  Y                     37.509310   \n",
       "2152787  LALVA471745169                  Y                     36.985720   \n",
       "3196996  LALVA398865370                NaN                     37.241560   \n",
       "\n",
       "         Residence_Addresses_Longitude Voters_Gender Voters_FIPS  lat_jitter  \n",
       "4506497                     -76.266420             F         710   36.810290  \n",
       "3220820                     -79.976485             M         161   37.255338  \n",
       "745576                      -77.649680             M         041   37.505897  \n",
       "2152787                     -76.612630             M         093   36.955577  \n",
       "3196996                     -79.995220             M         161   37.181218  "
      ]
     },
     "execution_count": 12,
=======
    "id": "pKj6kNkO3C1O",
    "outputId": "1c111af5-eba6-4e64-fda9-99710a6e32bf"
   },
   "outputs": [
    {
     "name": "stdout",
     "output_type": "stream",
     "text": [
      "<class 'pandas.core.frame.DataFrame'>\n",
      "Int64Index: 52643 entries, 4506497 to 2917779\n",
      "Data columns (total 6 columns):\n",
      " #   Column                         Non-Null Count  Dtype \n",
      "---  ------                         --------------  ----- \n",
      " 0   LALVOTERID                     52643 non-null  object\n",
      " 1   General_2016_11_08             36531 non-null  object\n",
      " 2   Residence_Addresses_Latitude   52639 non-null  object\n",
      " 3   Residence_Addresses_Longitude  52639 non-null  object\n",
      " 4   Voters_Gender                  52643 non-null  object\n",
      " 5   Voters_FIPS                    52643 non-null  object\n",
      "dtypes: object(6)\n",
      "memory usage: 2.8+ MB\n"
     ]
    }
   ],
   "source": [
    "state_sample.info()"
   ]
  },
  {
   "cell_type": "markdown",
   "metadata": {
    "id": "wUFP_5Mo3C1P"
   },
   "source": [
    "## IV. Further Deidentifying Geocoded Locations: Jittering\n",
    "\n",
    "There are many other filtering and cleaning steps to be taken before writing out a new file\n",
    "\n",
    "For example, the coordinates can be identifying, even if you strip out all of the other PID variables, because they are geocoded to the address. You will want to jitter them if you intend to aggregate or visualize data.\n",
    "\n",
    "First, print out the data types to make sure what they are:"
   ]
  },
  {
   "cell_type": "code",
   "execution_count": null,
   "metadata": {
    "id": "xt8QmGzR3C1P",
    "outputId": "e191c1e7-b667-41f1-a7be-9471575f9791"
   },
   "outputs": [
    {
     "data": {
      "text/plain": [
       "LALVOTERID                       object\n",
       "General_2016_11_08               object\n",
       "Residence_Addresses_Latitude     object\n",
       "Residence_Addresses_Longitude    object\n",
       "Voters_Gender                    object\n",
       "Voters_FIPS                      object\n",
       "dtype: object"
      ]
     },
     "execution_count": 10,
>>>>>>> 986566042af05d5850664a907c4ca8e557507f34
     "metadata": {
      "tags": []
     },
     "output_type": "execute_result"
    }
   ],
   "source": [
<<<<<<< HEAD
    "jittered_lat = state_sample.jitter(\n",
    "    column_name='Residence_Addresses_Latitude',\n",
    "    dest_column_name='lat_jitter',\n",
    "    scale=0.05,\n",
    "    clip=None,\n",
    "    random_state=None,\n",
    ")\n",
    "\n",
    "jittered_lat.head(5)"
=======
    "state_sample.dtypes"
>>>>>>> 986566042af05d5850664a907c4ca8e557507f34
   ]
  },
  {
   "cell_type": "code",
   "execution_count": null,
   "metadata": {
<<<<<<< HEAD
    "id": "FSOPJ6KE3C1R",
    "outputId": "aeaddb25-0285-4182-89b0-b24a03ba1642",
    "scrolled": true
=======
    "id": "ALBc5ONd3C1Q",
    "outputId": "8605264b-304f-4c77-a6c9-f84cd6537d8e"
>>>>>>> 986566042af05d5850664a907c4ca8e557507f34
   },
   "outputs": [
    {
     "data": {
<<<<<<< HEAD
      "text/html": [
       "<div>\n",
       "<style scoped>\n",
       "    .dataframe tbody tr th:only-of-type {\n",
       "        vertical-align: middle;\n",
       "    }\n",
       "\n",
       "    .dataframe tbody tr th {\n",
       "        vertical-align: top;\n",
       "    }\n",
       "\n",
       "    .dataframe thead th {\n",
       "        text-align: right;\n",
       "    }\n",
       "</style>\n",
       "<table border=\"1\" class=\"dataframe\">\n",
       "  <thead>\n",
       "    <tr style=\"text-align: right;\">\n",
       "      <th></th>\n",
       "      <th>LALVOTERID</th>\n",
       "      <th>General_2016_11_08</th>\n",
       "      <th>Residence_Addresses_Latitude</th>\n",
       "      <th>Residence_Addresses_Longitude</th>\n",
       "      <th>Voters_Gender</th>\n",
       "      <th>Voters_FIPS</th>\n",
       "      <th>lat_jitter</th>\n",
       "      <th>long_jitter</th>\n",
       "    </tr>\n",
       "  </thead>\n",
       "  <tbody>\n",
       "    <tr>\n",
       "      <th>4506497</th>\n",
       "      <td>LALVA4381855</td>\n",
       "      <td>Y</td>\n",
       "      <td>36.861190</td>\n",
       "      <td>-76.266420</td>\n",
       "      <td>F</td>\n",
       "      <td>710</td>\n",
       "      <td>36.810290</td>\n",
       "      <td>-76.255566</td>\n",
       "    </tr>\n",
       "    <tr>\n",
       "      <th>3220820</th>\n",
       "      <td>LALVA1954212</td>\n",
       "      <td>Y</td>\n",
       "      <td>37.228351</td>\n",
       "      <td>-79.976485</td>\n",
       "      <td>M</td>\n",
       "      <td>161</td>\n",
       "      <td>37.255338</td>\n",
       "      <td>-80.044706</td>\n",
       "    </tr>\n",
       "    <tr>\n",
       "      <th>745576</th>\n",
       "      <td>LALVA738960</td>\n",
       "      <td>Y</td>\n",
       "      <td>37.509310</td>\n",
       "      <td>-77.649680</td>\n",
       "      <td>M</td>\n",
       "      <td>041</td>\n",
       "      <td>37.505897</td>\n",
       "      <td>-77.576737</td>\n",
       "    </tr>\n",
       "    <tr>\n",
       "      <th>2152787</th>\n",
       "      <td>LALVA471745169</td>\n",
       "      <td>Y</td>\n",
       "      <td>36.985720</td>\n",
       "      <td>-76.612630</td>\n",
       "      <td>M</td>\n",
       "      <td>093</td>\n",
       "      <td>36.955577</td>\n",
       "      <td>-76.638565</td>\n",
       "    </tr>\n",
       "    <tr>\n",
       "      <th>3196996</th>\n",
       "      <td>LALVA398865370</td>\n",
       "      <td>NaN</td>\n",
       "      <td>37.241560</td>\n",
       "      <td>-79.995220</td>\n",
       "      <td>M</td>\n",
       "      <td>161</td>\n",
       "      <td>37.181218</td>\n",
       "      <td>-79.913420</td>\n",
       "    </tr>\n",
       "  </tbody>\n",
       "</table>\n",
       "</div>"
      ],
      "text/plain": [
       "             LALVOTERID General_2016_11_08  Residence_Addresses_Latitude  \\\n",
       "4506497    LALVA4381855                  Y                     36.861190   \n",
       "3220820    LALVA1954212                  Y                     37.228351   \n",
       "745576      LALVA738960                  Y                     37.509310   \n",
       "2152787  LALVA471745169                  Y                     36.985720   \n",
       "3196996  LALVA398865370                NaN                     37.241560   \n",
       "\n",
       "         Residence_Addresses_Longitude Voters_Gender Voters_FIPS  lat_jitter  \\\n",
       "4506497                     -76.266420             F         710   36.810290   \n",
       "3220820                     -79.976485             M         161   37.255338   \n",
       "745576                      -77.649680             M         041   37.505897   \n",
       "2152787                     -76.612630             M         093   36.955577   \n",
       "3196996                     -79.995220             M         161   37.181218   \n",
       "\n",
       "         long_jitter  \n",
       "4506497   -76.255566  \n",
       "3220820   -80.044706  \n",
       "745576    -77.576737  \n",
       "2152787   -76.638565  \n",
       "3196996   -79.913420  "
      ]
     },
     "execution_count": 13,
=======
      "text/plain": [
       "LALVOTERID                        object\n",
       "General_2016_11_08                object\n",
       "Residence_Addresses_Latitude     float64\n",
       "Residence_Addresses_Longitude    float64\n",
       "Voters_Gender                     object\n",
       "Voters_FIPS                       object\n",
       "dtype: object"
      ]
     },
     "execution_count": 11,
>>>>>>> 986566042af05d5850664a907c4ca8e557507f34
     "metadata": {
      "tags": []
     },
     "output_type": "execute_result"
    }
   ],
   "source": [
<<<<<<< HEAD
    "## Now we jitter the longitude\n",
    "\n",
    "jittered_long = state_sample.jitter(\n",
    "    column_name='Residence_Addresses_Longitude',\n",
    "    dest_column_name='long_jitter',\n",
    "    scale=0.05,\n",
    "    clip=None,\n",
    "    random_state=None,\n",
    ")\n",
    "\n",
    "jittered_long.head(5)"
=======
    "## In order to jitter the coordinates, you need to change them to a float\n",
    "\n",
    "state_sample['Residence_Addresses_Latitude'] = pd.to_numeric(state_sample['Residence_Addresses_Latitude']) \n",
    "state_sample['Residence_Addresses_Longitude'] = pd.to_numeric(state_sample['Residence_Addresses_Longitude']) \n",
    "\n",
    "state_sample.dtypes"
>>>>>>> 986566042af05d5850664a907c4ca8e557507f34
   ]
  },
  {
   "cell_type": "markdown",
   "metadata": {
<<<<<<< HEAD
    "id": "e3paI-nH3C1S"
   },
   "source": [
    "To complete the jittering process, make sure you drop off the actual Residence_Addresses columns.\n",
    "\n",
    "With this last dataframe, you should have a one percent sample that has jittered lat long coordinates, voter gender, whether or not they voted in 2016, and their unique ID:\n"
=======
    "id": "wvqPyYWn3C1Q"
   },
   "source": [
    "The module pyjanitor introduces a jitter method for dataframes that can be used to displace the exact coordinates of a location.\n",
    "\n",
    "We'll start with jittering the latitude. This library inserts a Gaussian distribution (\"noise\") equal to the standard deviation of the scale. The exact amount of the scale in jitter may need to change but this is a good starting place. You may want to test the results in a mapping software like QGIS or ArcMap before proceeding too far"
>>>>>>> 986566042af05d5850664a907c4ca8e557507f34
   ]
  },
  {
   "cell_type": "code",
   "execution_count": null,
   "metadata": {
<<<<<<< HEAD
    "id": "ZgXExSgf3C1S",
    "outputId": "057aaedc-f11e-4f2d-eb45-dbf9f90a1ce5"
=======
    "id": "eJ7kTSS33C1R",
    "outputId": "629e4c9b-9b73-4a8f-f960-90d81809b160"
>>>>>>> 986566042af05d5850664a907c4ca8e557507f34
   },
   "outputs": [
    {
     "data": {
      "text/html": [
       "<div>\n",
       "<style scoped>\n",
       "    .dataframe tbody tr th:only-of-type {\n",
       "        vertical-align: middle;\n",
       "    }\n",
       "\n",
       "    .dataframe tbody tr th {\n",
       "        vertical-align: top;\n",
       "    }\n",
       "\n",
       "    .dataframe thead th {\n",
       "        text-align: right;\n",
       "    }\n",
       "</style>\n",
       "<table border=\"1\" class=\"dataframe\">\n",
       "  <thead>\n",
       "    <tr style=\"text-align: right;\">\n",
       "      <th></th>\n",
       "      <th>LALVOTERID</th>\n",
       "      <th>General_2016_11_08</th>\n",
<<<<<<< HEAD
       "      <th>Voters_Gender</th>\n",
       "      <th>Voters_FIPS</th>\n",
       "      <th>lat_jitter</th>\n",
       "      <th>long_jitter</th>\n",
=======
       "      <th>Residence_Addresses_Latitude</th>\n",
       "      <th>Residence_Addresses_Longitude</th>\n",
       "      <th>Voters_Gender</th>\n",
       "      <th>Voters_FIPS</th>\n",
       "      <th>lat_jitter</th>\n",
>>>>>>> 986566042af05d5850664a907c4ca8e557507f34
       "    </tr>\n",
       "  </thead>\n",
       "  <tbody>\n",
       "    <tr>\n",
       "      <th>4506497</th>\n",
       "      <td>LALVA4381855</td>\n",
       "      <td>Y</td>\n",
<<<<<<< HEAD
       "      <td>F</td>\n",
       "      <td>710</td>\n",
       "      <td>36.810290</td>\n",
       "      <td>-76.255566</td>\n",
=======
       "      <td>36.861190</td>\n",
       "      <td>-76.266420</td>\n",
       "      <td>F</td>\n",
       "      <td>710</td>\n",
       "      <td>36.810290</td>\n",
>>>>>>> 986566042af05d5850664a907c4ca8e557507f34
       "    </tr>\n",
       "    <tr>\n",
       "      <th>3220820</th>\n",
       "      <td>LALVA1954212</td>\n",
       "      <td>Y</td>\n",
<<<<<<< HEAD
       "      <td>M</td>\n",
       "      <td>161</td>\n",
       "      <td>37.255338</td>\n",
       "      <td>-80.044706</td>\n",
=======
       "      <td>37.228351</td>\n",
       "      <td>-79.976485</td>\n",
       "      <td>M</td>\n",
       "      <td>161</td>\n",
       "      <td>37.255338</td>\n",
>>>>>>> 986566042af05d5850664a907c4ca8e557507f34
       "    </tr>\n",
       "    <tr>\n",
       "      <th>745576</th>\n",
       "      <td>LALVA738960</td>\n",
       "      <td>Y</td>\n",
<<<<<<< HEAD
       "      <td>M</td>\n",
       "      <td>041</td>\n",
       "      <td>37.505897</td>\n",
       "      <td>-77.576737</td>\n",
=======
       "      <td>37.509310</td>\n",
       "      <td>-77.649680</td>\n",
       "      <td>M</td>\n",
       "      <td>041</td>\n",
       "      <td>37.505897</td>\n",
>>>>>>> 986566042af05d5850664a907c4ca8e557507f34
       "    </tr>\n",
       "    <tr>\n",
       "      <th>2152787</th>\n",
       "      <td>LALVA471745169</td>\n",
       "      <td>Y</td>\n",
<<<<<<< HEAD
       "      <td>M</td>\n",
       "      <td>093</td>\n",
       "      <td>36.955577</td>\n",
       "      <td>-76.638565</td>\n",
=======
       "      <td>36.985720</td>\n",
       "      <td>-76.612630</td>\n",
       "      <td>M</td>\n",
       "      <td>093</td>\n",
       "      <td>36.955577</td>\n",
>>>>>>> 986566042af05d5850664a907c4ca8e557507f34
       "    </tr>\n",
       "    <tr>\n",
       "      <th>3196996</th>\n",
       "      <td>LALVA398865370</td>\n",
       "      <td>NaN</td>\n",
<<<<<<< HEAD
       "      <td>M</td>\n",
       "      <td>161</td>\n",
       "      <td>37.181218</td>\n",
       "      <td>-79.913420</td>\n",
=======
       "      <td>37.241560</td>\n",
       "      <td>-79.995220</td>\n",
       "      <td>M</td>\n",
       "      <td>161</td>\n",
       "      <td>37.181218</td>\n",
>>>>>>> 986566042af05d5850664a907c4ca8e557507f34
       "    </tr>\n",
       "  </tbody>\n",
       "</table>\n",
       "</div>"
      ],
      "text/plain": [
<<<<<<< HEAD
       "             LALVOTERID General_2016_11_08 Voters_Gender Voters_FIPS  \\\n",
       "4506497    LALVA4381855                  Y             F         710   \n",
       "3220820    LALVA1954212                  Y             M         161   \n",
       "745576      LALVA738960                  Y             M         041   \n",
       "2152787  LALVA471745169                  Y             M         093   \n",
       "3196996  LALVA398865370                NaN             M         161   \n",
       "\n",
       "         lat_jitter  long_jitter  \n",
       "4506497   36.810290   -76.255566  \n",
       "3220820   37.255338   -80.044706  \n",
       "745576    37.505897   -77.576737  \n",
       "2152787   36.955577   -76.638565  \n",
       "3196996   37.181218   -79.913420  "
      ]
     },
     "execution_count": 14,
=======
       "             LALVOTERID General_2016_11_08  Residence_Addresses_Latitude  \\\n",
       "4506497    LALVA4381855                  Y                     36.861190   \n",
       "3220820    LALVA1954212                  Y                     37.228351   \n",
       "745576      LALVA738960                  Y                     37.509310   \n",
       "2152787  LALVA471745169                  Y                     36.985720   \n",
       "3196996  LALVA398865370                NaN                     37.241560   \n",
       "\n",
       "         Residence_Addresses_Longitude Voters_Gender Voters_FIPS  lat_jitter  \n",
       "4506497                     -76.266420             F         710   36.810290  \n",
       "3220820                     -79.976485             M         161   37.255338  \n",
       "745576                      -77.649680             M         041   37.505897  \n",
       "2152787                     -76.612630             M         093   36.955577  \n",
       "3196996                     -79.995220             M         161   37.181218  "
      ]
     },
     "execution_count": 12,
>>>>>>> 986566042af05d5850664a907c4ca8e557507f34
     "metadata": {
      "tags": []
     },
     "output_type": "execute_result"
    }
   ],
   "source": [
<<<<<<< HEAD
    "stripped_sample = jittered_long.drop(columns=['Residence_Addresses_Latitude', 'Residence_Addresses_Longitude'])\n",
    "\n",
    "stripped_sample.head(5)"
   ]
  },
  {
   "cell_type": "markdown",
   "metadata": {
    "id": "uWzC7IGU3C1S"
   },
   "source": [
    "## V. Saving the Resulting Dataframe to a CSV\n",
    "\n",
    "Finally, you may want to write out the sample to a CSV, leaving out the index that Pandas creates and stipulating the encoding into utf-8"
=======
    "jittered_lat = state_sample.jitter(\n",
    "    column_name='Residence_Addresses_Latitude',\n",
    "    dest_column_name='lat_jitter',\n",
    "    scale=0.05,\n",
    "    clip=None,\n",
    "    random_state=None,\n",
    ")\n",
    "\n",
    "jittered_lat.head(5)"
>>>>>>> 986566042af05d5850664a907c4ca8e557507f34
   ]
  },
  {
   "cell_type": "code",
   "execution_count": null,
   "metadata": {
<<<<<<< HEAD
    "collapsed": true,
    "id": "zR7B0twR3C1T"
   },
   "outputs": [],
   "source": [
    "stripped_sample.to_csv(r'virginia-onepercent-sample.csv', index=False, encoding='utf-8')"
   ]
  },
  {
   "cell_type": "markdown",
   "metadata": {
    "id": "q8PllR4c3C1T"
   },
   "source": [
    "In the course of your analysis, you may want to repeat this process for multiple states and/or develop an aggregate roster of voters culled from a subset. You are encouraged to visit the tools section on the [L2 Political LibGuide at NYU Libraries](https://guides.nyu.edu/l2political/tools).\n",
    "\n",
    "In general, you should have a data management plan with these files that includes the following elements:\n",
    "\n",
    "- Secure any original .tab files you've downloaded by storing them in a single directory location, and then deleting the original .tab files once you've generated extracts\n",
    "- Manage your extracted samples in a secure environment\n",
    "\n",
    "Simple scripts and suggestions are available on the L2 Political LibGuide. \n"
   ]
  },
  {
   "cell_type": "markdown",
   "metadata": {},
   "source": [
    "## Saahil Test"
   ]
  },
  {
   "cell_type": "code",
   "execution_count": 3,
   "metadata": {},
=======
    "id": "FSOPJ6KE3C1R",
    "outputId": "aeaddb25-0285-4182-89b0-b24a03ba1642",
    "scrolled": true
   },
>>>>>>> 986566042af05d5850664a907c4ca8e557507f34
   "outputs": [
    {
     "data": {
      "text/html": [
       "<div>\n",
       "<style scoped>\n",
       "    .dataframe tbody tr th:only-of-type {\n",
       "        vertical-align: middle;\n",
       "    }\n",
       "\n",
       "    .dataframe tbody tr th {\n",
       "        vertical-align: top;\n",
       "    }\n",
       "\n",
       "    .dataframe thead th {\n",
       "        text-align: right;\n",
       "    }\n",
       "</style>\n",
       "<table border=\"1\" class=\"dataframe\">\n",
       "  <thead>\n",
       "    <tr style=\"text-align: right;\">\n",
       "      <th></th>\n",
<<<<<<< HEAD
       "      <th>SEQUENCE</th>\n",
       "      <th>LALVOTERID</th>\n",
       "      <th>Voters_Active</th>\n",
       "      <th>Voters_StateVoterID</th>\n",
       "      <th>Voters_CountyVoterID</th>\n",
       "      <th>VoterTelephones_LandlineAreaCode</th>\n",
       "      <th>VoterTelephones_Landline7Digit</th>\n",
       "      <th>VoterTelephones_LandlineFormatted</th>\n",
       "      <th>VoterTelephones_LandlineUnformatted</th>\n",
       "      <th>VoterTelephones_LandlineConfidenceCode</th>\n",
       "      <th>...</th>\n",
       "      <th>ElectionReturns_P18PrecinctTurnoutAllRegisteredVoters</th>\n",
       "      <th>ElectionReturns_P18PrecinctTurnoutDemocrats</th>\n",
       "      <th>ElectionReturns_P18PrecinctTurnoutRepublicans</th>\n",
       "      <th>FECDonors_AvgDonation</th>\n",
       "      <th>FECDonors_AvgDonation_Range</th>\n",
       "      <th>FECDonors_LastDonationDate</th>\n",
       "      <th>FECDonors_NumberOfDonations</th>\n",
       "      <th>FECDonors_PrimaryRecipientOfContributions</th>\n",
       "      <th>FECDonors_TotalDonationsAmount</th>\n",
       "      <th>FECDonors_TotalDonationsAmt_Range</th>\n",
=======
       "      <th>LALVOTERID</th>\n",
       "      <th>General_2016_11_08</th>\n",
       "      <th>Residence_Addresses_Latitude</th>\n",
       "      <th>Residence_Addresses_Longitude</th>\n",
       "      <th>Voters_Gender</th>\n",
       "      <th>Voters_FIPS</th>\n",
       "      <th>lat_jitter</th>\n",
       "      <th>long_jitter</th>\n",
>>>>>>> 986566042af05d5850664a907c4ca8e557507f34
       "    </tr>\n",
       "  </thead>\n",
       "  <tbody>\n",
       "    <tr>\n",
<<<<<<< HEAD
       "      <th>0</th>\n",
       "      <td>1</td>\n",
       "      <td>LALAK410126890</td>\n",
       "      <td>A</td>\n",
       "      <td>01135871</td>\n",
       "      <td>NaN</td>\n",
       "      <td>NaN</td>\n",
       "      <td>NaN</td>\n",
       "      <td>NaN</td>\n",
       "      <td>NaN</td>\n",
       "      <td>NaN</td>\n",
       "      <td>...</td>\n",
       "      <td>19%</td>\n",
       "      <td>19%</td>\n",
       "      <td>26%</td>\n",
       "      <td>NaN</td>\n",
       "      <td>NaN</td>\n",
       "      <td>NaN</td>\n",
       "      <td>NaN</td>\n",
       "      <td>NaN</td>\n",
       "      <td>NaN</td>\n",
       "      <td>NaN</td>\n",
       "    </tr>\n",
       "    <tr>\n",
       "      <th>1</th>\n",
       "      <td>2</td>\n",
       "      <td>LALAK504532417</td>\n",
       "      <td>A</td>\n",
       "      <td>01230757</td>\n",
       "      <td>NaN</td>\n",
       "      <td>NaN</td>\n",
       "      <td>NaN</td>\n",
       "      <td>NaN</td>\n",
       "      <td>NaN</td>\n",
       "      <td>NaN</td>\n",
       "      <td>...</td>\n",
       "      <td>19%</td>\n",
       "      <td>19%</td>\n",
       "      <td>26%</td>\n",
       "      <td>NaN</td>\n",
       "      <td>NaN</td>\n",
       "      <td>NaN</td>\n",
       "      <td>NaN</td>\n",
       "      <td>NaN</td>\n",
       "      <td>NaN</td>\n",
       "      <td>NaN</td>\n",
       "    </tr>\n",
       "    <tr>\n",
       "      <th>2</th>\n",
       "      <td>3</td>\n",
       "      <td>LALAK177113938</td>\n",
       "      <td>A</td>\n",
       "      <td>00994519</td>\n",
       "      <td>NaN</td>\n",
       "      <td>NaN</td>\n",
       "      <td>NaN</td>\n",
       "      <td>NaN</td>\n",
       "      <td>NaN</td>\n",
       "      <td>NaN</td>\n",
       "      <td>...</td>\n",
       "      <td>19%</td>\n",
       "      <td>19%</td>\n",
       "      <td>26%</td>\n",
       "      <td>NaN</td>\n",
       "      <td>NaN</td>\n",
       "      <td>NaN</td>\n",
       "      <td>NaN</td>\n",
       "      <td>NaN</td>\n",
       "      <td>NaN</td>\n",
       "      <td>NaN</td>\n",
       "    </tr>\n",
       "    <tr>\n",
       "      <th>3</th>\n",
       "      <td>4</td>\n",
       "      <td>LALAK177127696</td>\n",
       "      <td>A</td>\n",
       "      <td>00994764</td>\n",
       "      <td>NaN</td>\n",
       "      <td>NaN</td>\n",
       "      <td>NaN</td>\n",
       "      <td>NaN</td>\n",
       "      <td>NaN</td>\n",
       "      <td>NaN</td>\n",
       "      <td>...</td>\n",
       "      <td>19%</td>\n",
       "      <td>19%</td>\n",
       "      <td>26%</td>\n",
       "      <td>NaN</td>\n",
       "      <td>NaN</td>\n",
       "      <td>NaN</td>\n",
       "      <td>NaN</td>\n",
       "      <td>NaN</td>\n",
       "      <td>NaN</td>\n",
       "      <td>NaN</td>\n",
       "    </tr>\n",
       "    <tr>\n",
       "      <th>4</th>\n",
       "      <td>5</td>\n",
       "      <td>LALAK470911183</td>\n",
       "      <td>A</td>\n",
       "      <td>01202491</td>\n",
       "      <td>NaN</td>\n",
       "      <td>NaN</td>\n",
       "      <td>NaN</td>\n",
       "      <td>NaN</td>\n",
       "      <td>NaN</td>\n",
       "      <td>NaN</td>\n",
       "      <td>...</td>\n",
       "      <td>19%</td>\n",
       "      <td>19%</td>\n",
       "      <td>26%</td>\n",
       "      <td>NaN</td>\n",
       "      <td>NaN</td>\n",
       "      <td>NaN</td>\n",
       "      <td>NaN</td>\n",
       "      <td>NaN</td>\n",
       "      <td>NaN</td>\n",
       "      <td>NaN</td>\n",
       "    </tr>\n",
       "  </tbody>\n",
       "</table>\n",
       "<p>5 rows × 646 columns</p>\n",
       "</div>"
      ],
      "text/plain": [
       "  SEQUENCE      LALVOTERID Voters_Active Voters_StateVoterID  \\\n",
       "0        1  LALAK410126890             A            01135871   \n",
       "1        2  LALAK504532417             A            01230757   \n",
       "2        3  LALAK177113938             A            00994519   \n",
       "3        4  LALAK177127696             A            00994764   \n",
       "4        5  LALAK470911183             A            01202491   \n",
       "\n",
       "  Voters_CountyVoterID VoterTelephones_LandlineAreaCode  \\\n",
       "0                  NaN                              NaN   \n",
       "1                  NaN                              NaN   \n",
       "2                  NaN                              NaN   \n",
       "3                  NaN                              NaN   \n",
       "4                  NaN                              NaN   \n",
       "\n",
       "  VoterTelephones_Landline7Digit VoterTelephones_LandlineFormatted  \\\n",
       "0                            NaN                               NaN   \n",
       "1                            NaN                               NaN   \n",
       "2                            NaN                               NaN   \n",
       "3                            NaN                               NaN   \n",
       "4                            NaN                               NaN   \n",
       "\n",
       "  VoterTelephones_LandlineUnformatted VoterTelephones_LandlineConfidenceCode  \\\n",
       "0                                 NaN                                    NaN   \n",
       "1                                 NaN                                    NaN   \n",
       "2                                 NaN                                    NaN   \n",
       "3                                 NaN                                    NaN   \n",
       "4                                 NaN                                    NaN   \n",
       "\n",
       "   ... ElectionReturns_P18PrecinctTurnoutAllRegisteredVoters  \\\n",
       "0  ...                                                19%      \n",
       "1  ...                                                19%      \n",
       "2  ...                                                19%      \n",
       "3  ...                                                19%      \n",
       "4  ...                                                19%      \n",
       "\n",
       "  ElectionReturns_P18PrecinctTurnoutDemocrats  \\\n",
       "0                                         19%   \n",
       "1                                         19%   \n",
       "2                                         19%   \n",
       "3                                         19%   \n",
       "4                                         19%   \n",
       "\n",
       "  ElectionReturns_P18PrecinctTurnoutRepublicans FECDonors_AvgDonation  \\\n",
       "0                                           26%                   NaN   \n",
       "1                                           26%                   NaN   \n",
       "2                                           26%                   NaN   \n",
       "3                                           26%                   NaN   \n",
       "4                                           26%                   NaN   \n",
       "\n",
       "  FECDonors_AvgDonation_Range FECDonors_LastDonationDate  \\\n",
       "0                         NaN                        NaN   \n",
       "1                         NaN                        NaN   \n",
       "2                         NaN                        NaN   \n",
       "3                         NaN                        NaN   \n",
       "4                         NaN                        NaN   \n",
       "\n",
       "  FECDonors_NumberOfDonations FECDonors_PrimaryRecipientOfContributions  \\\n",
       "0                         NaN                                       NaN   \n",
       "1                         NaN                                       NaN   \n",
       "2                         NaN                                       NaN   \n",
       "3                         NaN                                       NaN   \n",
       "4                         NaN                                       NaN   \n",
       "\n",
       "  FECDonors_TotalDonationsAmount FECDonors_TotalDonationsAmt_Range  \n",
       "0                            NaN                               NaN  \n",
       "1                            NaN                               NaN  \n",
       "2                            NaN                               NaN  \n",
       "3                            NaN                               NaN  \n",
       "4                            NaN                               NaN  \n",
       "\n",
       "[5 rows x 646 columns]"
      ]
     },
     "execution_count": 3,
     "metadata": {},
=======
       "      <th>4506497</th>\n",
       "      <td>LALVA4381855</td>\n",
       "      <td>Y</td>\n",
       "      <td>36.861190</td>\n",
       "      <td>-76.266420</td>\n",
       "      <td>F</td>\n",
       "      <td>710</td>\n",
       "      <td>36.810290</td>\n",
       "      <td>-76.255566</td>\n",
       "    </tr>\n",
       "    <tr>\n",
       "      <th>3220820</th>\n",
       "      <td>LALVA1954212</td>\n",
       "      <td>Y</td>\n",
       "      <td>37.228351</td>\n",
       "      <td>-79.976485</td>\n",
       "      <td>M</td>\n",
       "      <td>161</td>\n",
       "      <td>37.255338</td>\n",
       "      <td>-80.044706</td>\n",
       "    </tr>\n",
       "    <tr>\n",
       "      <th>745576</th>\n",
       "      <td>LALVA738960</td>\n",
       "      <td>Y</td>\n",
       "      <td>37.509310</td>\n",
       "      <td>-77.649680</td>\n",
       "      <td>M</td>\n",
       "      <td>041</td>\n",
       "      <td>37.505897</td>\n",
       "      <td>-77.576737</td>\n",
       "    </tr>\n",
       "    <tr>\n",
       "      <th>2152787</th>\n",
       "      <td>LALVA471745169</td>\n",
       "      <td>Y</td>\n",
       "      <td>36.985720</td>\n",
       "      <td>-76.612630</td>\n",
       "      <td>M</td>\n",
       "      <td>093</td>\n",
       "      <td>36.955577</td>\n",
       "      <td>-76.638565</td>\n",
       "    </tr>\n",
       "    <tr>\n",
       "      <th>3196996</th>\n",
       "      <td>LALVA398865370</td>\n",
       "      <td>NaN</td>\n",
       "      <td>37.241560</td>\n",
       "      <td>-79.995220</td>\n",
       "      <td>M</td>\n",
       "      <td>161</td>\n",
       "      <td>37.181218</td>\n",
       "      <td>-79.913420</td>\n",
       "    </tr>\n",
       "  </tbody>\n",
       "</table>\n",
       "</div>"
      ],
      "text/plain": [
       "             LALVOTERID General_2016_11_08  Residence_Addresses_Latitude  \\\n",
       "4506497    LALVA4381855                  Y                     36.861190   \n",
       "3220820    LALVA1954212                  Y                     37.228351   \n",
       "745576      LALVA738960                  Y                     37.509310   \n",
       "2152787  LALVA471745169                  Y                     36.985720   \n",
       "3196996  LALVA398865370                NaN                     37.241560   \n",
       "\n",
       "         Residence_Addresses_Longitude Voters_Gender Voters_FIPS  lat_jitter  \\\n",
       "4506497                     -76.266420             F         710   36.810290   \n",
       "3220820                     -79.976485             M         161   37.255338   \n",
       "745576                      -77.649680             M         041   37.505897   \n",
       "2152787                     -76.612630             M         093   36.955577   \n",
       "3196996                     -79.995220             M         161   37.181218   \n",
       "\n",
       "         long_jitter  \n",
       "4506497   -76.255566  \n",
       "3220820   -80.044706  \n",
       "745576    -77.576737  \n",
       "2152787   -76.638565  \n",
       "3196996   -79.913420  "
      ]
     },
     "execution_count": 13,
     "metadata": {
      "tags": []
     },
>>>>>>> 986566042af05d5850664a907c4ca8e557507f34
     "output_type": "execute_result"
    }
   ],
   "source": [
<<<<<<< HEAD
    "selected_variables= ['LALVOTERID',\n",
    "                      'Residence_Addresses_Latitude',\n",
    "                      'Residence_Addresses_Longitude',\n",
    "                      'Voters_Gender',\n",
    "                      'Voters_FIPS']\n",
    "\n",
    "## Change the file path below accordingly to point toward the relevant file. Note that this data loading step below\n",
    "## will take the longest out of any step for your computer to process\n",
    "\n",
    "state_demographic_ak = pd.read_csv(r'C:\\Users\\saahi\\Desktop\\VM2--AK--2020-03-18-DEMOGRAPHIC.tab', \n",
    "                                sep='\\t', dtype=str, encoding='unicode_escape')\n",
    "\n",
    "## Preview of the first 5 rows of the data subset. \n",
    "\n",
    "state_demographic_ak.head(5)"
=======
    "## Now we jitter the longitude\n",
    "\n",
    "jittered_long = state_sample.jitter(\n",
    "    column_name='Residence_Addresses_Longitude',\n",
    "    dest_column_name='long_jitter',\n",
    "    scale=0.05,\n",
    "    clip=None,\n",
    "    random_state=None,\n",
    ")\n",
    "\n",
    "jittered_long.head(5)"
   ]
  },
  {
   "cell_type": "markdown",
   "metadata": {
    "id": "e3paI-nH3C1S"
   },
   "source": [
    "To complete the jittering process, make sure you drop off the actual Residence_Addresses columns.\n",
    "\n",
    "With this last dataframe, you should have a one percent sample that has jittered lat long coordinates, voter gender, whether or not they voted in 2016, and their unique ID:\n"
>>>>>>> 986566042af05d5850664a907c4ca8e557507f34
   ]
  },
  {
   "cell_type": "code",
<<<<<<< HEAD
   "execution_count": 4,
   "metadata": {},
   "outputs": [
    {
     "data": {
      "text/plain": [
       "['SEQUENCE',\n",
       " 'LALVOTERID',\n",
       " 'Voters_Active',\n",
       " 'Voters_StateVoterID',\n",
       " 'Voters_CountyVoterID',\n",
       " 'VoterTelephones_LandlineAreaCode',\n",
       " 'VoterTelephones_Landline7Digit',\n",
       " 'VoterTelephones_LandlineFormatted',\n",
       " 'VoterTelephones_LandlineUnformatted',\n",
       " 'VoterTelephones_LandlineConfidenceCode',\n",
       " 'VoterTelephones_CellPhoneOnly',\n",
       " 'VoterTelephones_CellPhoneFormatted',\n",
       " 'VoterTelephones_CellPhoneUnformatted',\n",
       " 'VoterTelephones_CellConfidenceCode',\n",
       " 'Voters_FirstName',\n",
       " 'Voters_MiddleName',\n",
       " 'Voters_LastName',\n",
       " 'Voters_NameSuffix',\n",
       " 'Residence_Addresses_AddressLine',\n",
       " 'Residence_Addresses_ExtraAddressLine',\n",
       " 'Residence_Addresses_City',\n",
       " 'Residence_Addresses_State',\n",
       " 'Residence_Addresses_Zip',\n",
       " 'Residence_Addresses_ZipPlus4',\n",
       " 'Residence_Addresses_HouseNumber',\n",
       " 'Residence_Addresses_PrefixDirection',\n",
       " 'Residence_Addresses_StreetName',\n",
       " 'Residence_Addresses_Designator',\n",
       " 'Residence_Addresses_SuffixDirection',\n",
       " 'Residence_Addresses_ApartmentNum',\n",
       " 'Residence_Addresses_ApartmentType',\n",
       " 'Residence_Addresses_CassErrStatCode',\n",
       " 'Voters_SequenceZigZag',\n",
       " 'Voters_SequenceOddEven',\n",
       " 'Residence_Addresses_CensusTract',\n",
       " 'Residence_Addresses_CensusBlockGroup',\n",
       " 'Residence_Addresses_CensusBlock',\n",
       " 'Residence_Addresses_Latitude',\n",
       " 'Residence_Addresses_Longitude',\n",
       " 'Residence_Addresses_LatLongAccuracy',\n",
       " 'Residence_Addresses_Property_LandSq_Footage',\n",
       " 'Residence_Addresses_Property_HomeSq_Footage',\n",
       " 'Residence_Addresses_Density',\n",
       " 'Residence_Families_FamilyID',\n",
       " 'Residence_Families_HHCount',\n",
       " 'Residence_HHGender_Description',\n",
       " 'Residence_HHParties_Description',\n",
       " 'Mailing_Addresses_AddressLine',\n",
       " 'Mailing_Addresses_ExtraAddressLine',\n",
       " 'Mailing_Addresses_City',\n",
       " 'Mailing_Addresses_State',\n",
       " 'Mailing_Addresses_Zip',\n",
       " 'Mailing_Addresses_ZipPlus4',\n",
       " 'Mailing_Addresses_HouseNumber',\n",
       " 'Mailing_Addresses_PrefixDirection',\n",
       " 'Mailing_Addresses_StreetName',\n",
       " 'Mailing_Addresses_Designator',\n",
       " 'Mailing_Addresses_SuffixDirection',\n",
       " 'Mailing_Addresses_ApartmentNum',\n",
       " 'Mailing_Addresses_ApartmentType',\n",
       " 'Mailing_Addresses_CassErrStatCode',\n",
       " 'Mailing_Families_FamilyID',\n",
       " 'Mailing_Families_HHCount',\n",
       " 'Mailing_HHGender_Description',\n",
       " 'Mailing_HHParties_Description',\n",
       " 'Voters_Gender',\n",
       " 'Voters_Age',\n",
       " 'Voters_BirthDate',\n",
       " 'DateConfidence_Description',\n",
       " 'Parties_Description',\n",
       " 'VoterParties_Change_Changed_Party',\n",
       " 'Ethnic_Description',\n",
       " 'EthnicGroups_EthnicGroup1Desc',\n",
       " 'CountyEthnic_LALEthnicCode',\n",
       " 'CountyEthnic_Description',\n",
       " 'Religions_Description',\n",
       " 'Voters_CalculatedRegDate',\n",
       " 'Voters_OfficialRegDate',\n",
       " 'Voters_PlaceOfBirth',\n",
       " 'Languages_Description',\n",
       " 'AbsenteeTypes_Description',\n",
       " 'MilitaryStatus_Description',\n",
       " 'MaritalStatus_Description',\n",
       " 'US_Congressional_District',\n",
       " 'AddressDistricts_Change_Changed_CD',\n",
       " 'State_Senate_District',\n",
       " 'AddressDistricts_Change_Changed_SD',\n",
       " 'State_House_District',\n",
       " 'AddressDistricts_Change_Changed_HD',\n",
       " 'State_Legislative_District',\n",
       " 'AddressDistricts_Change_Changed_LD',\n",
       " '2001_US_Congressional_District',\n",
       " '2001_State_Senate_District',\n",
       " '2001_State_House_District',\n",
       " '2001_State_Legislative_District',\n",
       " 'County',\n",
       " 'Voters_FIPS',\n",
       " 'AddressDistricts_Change_Changed_County',\n",
       " 'Precinct',\n",
       " 'County_Commissioner_District',\n",
       " 'County_Supervisorial_District',\n",
       " 'County_Legislative_District',\n",
       " 'City',\n",
       " 'City_Council_Commissioner_District',\n",
       " 'City_Ward',\n",
       " 'City_Mayoral_District',\n",
       " 'Town_District',\n",
       " 'Town_Ward',\n",
       " 'Town_Council',\n",
       " 'Village',\n",
       " 'Village_Ward',\n",
       " 'Township',\n",
       " 'Township_Ward',\n",
       " 'Borough',\n",
       " 'Borough_Ward',\n",
       " 'Hamlet_Community_Area',\n",
       " '4H_Livestock_District',\n",
       " 'Airport_District',\n",
       " 'Annexation_District',\n",
       " 'Aquatic_Center_District',\n",
       " 'Aquatic_District',\n",
       " 'Assessment_District',\n",
       " 'Bay_Area_Rapid_Transit',\n",
       " 'Board_of_Education_District',\n",
       " 'Board_of_Education_SubDistrict',\n",
       " 'Bonds_District',\n",
       " 'Career_Center',\n",
       " 'Cemetery_District',\n",
       " 'Central_Committee_District',\n",
       " 'Chemical_Control_District',\n",
       " 'City_School_District',\n",
       " 'Coast_Water_District',\n",
       " 'College_Board_District',\n",
       " 'Committee_Super_District',\n",
       " 'Communications_District',\n",
       " 'Community_College',\n",
       " 'Community_College_Commissioner_District',\n",
       " 'Community_College_SubDistrict',\n",
       " 'Community_College_At_Large',\n",
       " 'Community_Council_District',\n",
       " 'Community_Council_SubDistrict',\n",
       " 'Community_Facilities_District',\n",
       " 'Community_Facilities_SubDistrict',\n",
       " 'Community_Hospital_District',\n",
       " 'Community_Planning_Area',\n",
       " 'Community_Service_District',\n",
       " 'Community_Service_SubDistrict',\n",
       " 'Congressional_Township',\n",
       " 'Conservation_District',\n",
       " 'Conservation_SubDistrict',\n",
       " 'Consolidated_Water_District',\n",
       " 'Control_Zone_District',\n",
       " 'Corrections_District',\n",
       " 'County_Board_of_Education_District',\n",
       " 'County_Board_of_Education_SubDistrict',\n",
       " 'County_Community_College_District',\n",
       " 'County_Fire_District',\n",
       " 'County_Hospital_District',\n",
       " 'County_Library_District',\n",
       " 'County_Memorial_District',\n",
       " 'County_Paramedic_District',\n",
       " 'County_Service_Area',\n",
       " 'County_Service_Area_SubDistrict',\n",
       " 'County_Sewer_District',\n",
       " 'County_Superintendent_of_Schools_District',\n",
       " 'County_Unified_School_District',\n",
       " 'County_Water_District',\n",
       " 'County_Water_Landowner_District',\n",
       " 'County_Water_SubDistrict',\n",
       " 'Democratic_Convention_Member',\n",
       " 'Democratic_Zone',\n",
       " 'Designated_Market_Area_DMA',\n",
       " 'District_Attorney',\n",
       " 'Drainage_District',\n",
       " 'Education_Commission_District',\n",
       " 'Educational_Service_District',\n",
       " 'Educational_Service_Subdistrict',\n",
       " 'Election_Commissioner_District',\n",
       " 'Elementary_School_District',\n",
       " 'Elementary_School_SubDistrict',\n",
       " 'Emergency_Communication_911_District',\n",
       " 'Emergency_Communication_911_SubDistrict',\n",
       " 'Enterprise_Zone_District',\n",
       " 'Exempted_Village_School_District',\n",
       " 'EXT_District',\n",
       " 'Facilities_Improvement_District',\n",
       " 'Fire_District',\n",
       " 'Fire_Maintenance_District',\n",
       " 'Fire_Protection_District',\n",
       " 'Fire_Protection_SubDistrict',\n",
       " 'Fire_Protection_Tax_Measure_District',\n",
       " 'Fire_Service_Area_District',\n",
       " 'Fire_SubDistrict',\n",
       " 'Flood_Control_Zone',\n",
       " 'Forest_Preserve',\n",
       " 'Garbage_District',\n",
       " 'Geological_Hazard_Abatement_District',\n",
       " 'Health_District',\n",
       " 'High_School_District',\n",
       " 'High_School_SubDistrict',\n",
       " 'Hospital_District',\n",
       " 'Hospital_SubDistrict',\n",
       " 'Improvement_Landowner_District',\n",
       " 'Independent_Fire_District',\n",
       " 'Irrigation_District',\n",
       " 'Irrigation_SubDistrict',\n",
       " 'Island',\n",
       " 'Judicial_Appellate_District',\n",
       " 'Judicial_Chancery_Court',\n",
       " 'Judicial_Circuit_Court_District',\n",
       " 'Judicial_County_Board_of_Review_District',\n",
       " 'Judicial_County_Court_District',\n",
       " 'Judicial_District',\n",
       " 'Judicial_District_Court_District',\n",
       " 'Judicial_Family_Court_District',\n",
       " 'Judicial_Jury_District',\n",
       " 'Judicial_Juvenile_Court_District',\n",
       " 'Judicial_Magistrate_Division',\n",
       " 'Judicial_Sub_Circuit_District',\n",
       " 'Judicial_Superior_Court_District',\n",
       " 'Judicial_Supreme_Court_District',\n",
       " 'Justice_of_the_Peace',\n",
       " 'Land_Commission',\n",
       " 'Landscaping_And_Lighting_Assessment_Distric',\n",
       " 'Law_Enforcement_District',\n",
       " 'Learning_Community_Coordinating_Council_District',\n",
       " 'Levee_District',\n",
       " 'Levee_Reconstruction_Assesment_District',\n",
       " 'Library_District',\n",
       " 'Library_Services_District',\n",
       " 'Library_SubDistrict',\n",
       " 'Lighting_District',\n",
       " 'Local_Hospital_District',\n",
       " 'Local_Park_District',\n",
       " 'Maintenance_District',\n",
       " 'Master_Plan_District',\n",
       " 'Memorial_District',\n",
       " 'Metro_Service_District',\n",
       " 'Metro_Service_Subdistrict',\n",
       " 'Metro_Transit_District',\n",
       " 'Metropolitan_Water_District',\n",
       " 'Middle_School_District',\n",
       " 'Mosquito_Abatement_District',\n",
       " 'Mountain_Water_District',\n",
       " 'Multi_township_Assessor',\n",
       " 'Municipal_Advisory_Council_District',\n",
       " 'Municipal_Court_District',\n",
       " 'Municipal_Utility_District',\n",
       " 'Municipal_Utility_SubDistrict',\n",
       " 'Municipal_Water_District',\n",
       " 'Municipal_Water_SubDistrict',\n",
       " 'Museum_District',\n",
       " 'Northeast_Soil_and_Water_District',\n",
       " 'Open_Space_District',\n",
       " 'Open_Space_SubDistrict',\n",
       " 'Other',\n",
       " 'Paramedic_District',\n",
       " 'Park_Commissioner_District',\n",
       " 'Park_District',\n",
       " 'Park_SubDistrict',\n",
       " 'Planning_Area_District',\n",
       " 'Police_District',\n",
       " 'Port_District',\n",
       " 'Port_SubDistrict',\n",
       " 'Power_District',\n",
       " 'Proposed_City',\n",
       " 'Proposed_City_Commissioner_District',\n",
       " 'Proposed_Community_College',\n",
       " 'Proposed_District',\n",
       " 'Proposed_Elementary_School_District',\n",
       " 'Proposed_Fire_District',\n",
       " 'Proposed_Unified_School_District',\n",
       " 'Public_Airport_District',\n",
       " 'Public_Regulation_Commission',\n",
       " 'Public_Service_Commission_District',\n",
       " 'Public_Utility_District',\n",
       " 'Public_Utility_SubDistrict',\n",
       " 'Rapid_Transit_District',\n",
       " 'Rapid_Transit_SubDistrict',\n",
       " 'Reclamation_District',\n",
       " 'Recreation_District',\n",
       " 'Recreational_SubDistrict',\n",
       " 'Regional_Office_of_Education_District',\n",
       " 'Republican_Area',\n",
       " 'Republican_Convention_Member',\n",
       " 'Resort_Improvement_District',\n",
       " 'Resource_Conservation_District',\n",
       " 'River_Water_District',\n",
       " 'Road_Maintenance_District',\n",
       " 'Rural_Service_District',\n",
       " 'Sanitary_District',\n",
       " 'Sanitary_SubDistrict',\n",
       " 'School_Board_District',\n",
       " 'School_District',\n",
       " 'School_District_Vocational',\n",
       " 'School_Facilities_Improvement_District',\n",
       " 'School_Subdistrict',\n",
       " 'Service_Area_District',\n",
       " 'Sewer_District',\n",
       " 'Sewer_Maintenance_District',\n",
       " 'Sewer_SubDistrict',\n",
       " 'Snow_Removal_District',\n",
       " 'Soil_And_Water_District',\n",
       " 'Soil_And_Water_District_At_Large',\n",
       " 'Special_Reporting_District',\n",
       " 'Special_Tax_District',\n",
       " 'State_Board_of_Equalization',\n",
       " 'Storm_Water_District',\n",
       " 'Street_Lighting_District',\n",
       " 'Superintendent_of_Schools_District',\n",
       " 'Transit_District',\n",
       " 'Transit_SubDistrict',\n",
       " 'TriCity_Service_District',\n",
       " 'TV_Translator_District',\n",
       " 'Unified_School_District',\n",
       " 'Unified_School_SubDistrict',\n",
       " 'Unincorporated_District',\n",
       " 'Unincorporated_Park_District',\n",
       " 'Unprotected_Fire_District',\n",
       " 'Ute_Creek_Soil_District',\n",
       " 'Vector_Control_District',\n",
       " 'Vote_By_Mail_Area',\n",
       " 'Wastewater_District',\n",
       " 'Water_Agency',\n",
       " 'Water_Agency_SubDistrict',\n",
       " 'Water_Conservation_District',\n",
       " 'Water_Conservation_SubDistrict',\n",
       " 'Water_Control__Water_Conservation',\n",
       " 'Water_Control__Water_Conservation_SubDistrict',\n",
       " 'Water_District',\n",
       " 'Water_Public_Utility_District',\n",
       " 'Water_Public_Utility_Subdistrict',\n",
       " 'Water_Replacement_District',\n",
       " 'Water_Replacement_SubDistrict',\n",
       " 'Water_SubDistrict',\n",
       " 'Weed_District',\n",
       " 'CommercialData_BookBuyerInHome',\n",
       " 'CommercialData_ComputerOwnerInHome',\n",
       " 'CommercialData_CulinaryInterestMagazineInHome',\n",
       " 'CommercialData_DoItYourselferMagazineInHome',\n",
       " 'CommercialData_DonatesEnvironmentCauseInHome',\n",
       " 'CommercialData_DonatesToCharityInHome',\n",
       " 'CommercialData_DwellingType',\n",
       " 'CommercialData_DwellingUnitSize',\n",
       " 'CommercialData_Education',\n",
       " 'CommercialData_EstHomeValue',\n",
       " 'CommercialData_EstimatedHHIncome',\n",
       " 'CommercialData_EstimatedHHIncomeAmount',\n",
       " 'CommercialData_EstimatedAreaMedianHHIncome',\n",
       " 'CommercialData_FamilyMagazineInHome',\n",
       " 'CommercialData_FemaleOrientedMagazineInHome',\n",
       " 'CommercialData_FinancialMagazineInHome',\n",
       " 'CommercialData_GardeningMagazineInHome',\n",
       " 'CommercialData_HealthFitnessMagazineInHome',\n",
       " 'CommercialData_HHComposition',\n",
       " 'CommercialData_HomePurchaseDate',\n",
       " 'CommercialData_HomePurchasePrice',\n",
       " 'CommercialData_ISPSA',\n",
       " 'CommercialData_LandValue',\n",
       " 'CommercialData_LikelyUnion',\n",
       " 'CommercialData_AreaMedianEducationYears',\n",
       " 'CommercialData_AreaMedianHousingValue',\n",
       " 'CommercialData_MosaicZ4',\n",
       " 'CommercialData_MosaicZ4Global',\n",
       " 'CommercialData_Occupation',\n",
       " 'CommercialData_OccupationGroup',\n",
       " 'CommercialData_OccupationIndustry',\n",
       " 'CommercialData_AreaPcntHHMarriedCoupleNoChild',\n",
       " 'CommercialData_AreaPcntHHMarriedCoupleWithChild',\n",
       " 'CommercialData_AreaPcntHHSpanishSpeaking',\n",
       " 'CommercialData_AreaPcntHHWithChildren',\n",
       " 'CommercialData_PoliticalContributerInHome',\n",
       " 'CommercialData_PresenceOfChildrenCode',\n",
       " 'CommercialData_PresenceOfPremCredCrdInHome',\n",
       " 'CommercialData_PropertyType',\n",
       " 'CommercialData_ReligiousContributorInHome',\n",
       " 'CommercialData_ReligiousMagazineInHome',\n",
       " 'CommercialData_StateIncomeDecile',\n",
       " 'CommercialData_UpscaleBuyerInHome',\n",
       " 'CommercialData_UpscaleFemaleBuyerInHome',\n",
       " 'CommercialData_UpscaleMaleBuyerInHome',\n",
       " 'CommercialDataLL_Business_Owner',\n",
       " 'CommercialDataLL_Buyer_Antiques_In_Household',\n",
       " 'CommercialDataLL_Buyer_Art_In_Household',\n",
       " 'CommercialDataLL_Collector_Antiques_In_Household',\n",
       " 'CommercialDataLL_Collector_Arts_In_Household',\n",
       " 'CommercialDataLL_Collector_Avid_In_Household',\n",
       " 'CommercialDataLL_Collector_Coins_In_Household',\n",
       " 'CommercialDataLL_Collector_General_In_Household',\n",
       " 'CommercialDataLL_Collector_Military_In_Household',\n",
       " 'CommercialDataLL_Collector_Sports_In_Household',\n",
       " 'CommercialDataLL_Collector_Stamps_In_Household',\n",
       " 'CommercialDataLL_Donates_to_Animal_Welfare',\n",
       " 'CommercialDataLL_Donates_to_Arts_and_Culture',\n",
       " 'CommercialDataLL_Donates_to_Childrens_Causes',\n",
       " 'CommercialDataLL_Donates_to_Conservative_Causes',\n",
       " 'CommercialDataLL_Donates_to_Healthcare',\n",
       " 'CommercialDataLL_Donates_to_International_Aid_Causes',\n",
       " 'CommercialDataLL_Donates_to_Liberal_Causes',\n",
       " 'CommercialDataLL_Donates_to_Local_Community',\n",
       " 'CommercialDataLL_Donates_to_Veterans_Causes',\n",
       " 'CommercialDataLL_Donates_to_Wildlife_Preservation',\n",
       " 'CommercialDataLL_Gun_Owner',\n",
       " 'CommercialDataLL_Gun_Owner_Concealed_Permit',\n",
       " 'CommercialDataLL_Hispanic_Country_Origin',\n",
       " 'CommercialDataLL_Home_Office',\n",
       " 'CommercialDataLL_Home_Owner_Or_Renter',\n",
       " 'CommercialDataLL_Household_Primary_Language',\n",
       " 'CommercialDataLL_Interest_in_Auto_Work_In_Household',\n",
       " 'CommercialDataLL_Interest_in_Automotive_Parts_Accessories_In_Household',\n",
       " 'CommercialDataLL_Interest_in_Aviation_In_Household',\n",
       " 'CommercialDataLL_Interest_in_BoardGames_Puzzles_In_Household',\n",
       " 'CommercialDataLL_Interest_in_Boating_Sailing_In_Household',\n",
       " 'CommercialDataLL_Interest_in_Camping_Hiking_In_Household',\n",
       " 'CommercialDataLL_Interest_in_Cooking_General_In_Household',\n",
       " 'CommercialDataLL_Interest_in_Cooking_Gourmet_In_Household',\n",
       " 'CommercialDataLL_Interest_in_Crafts_In_Household',\n",
       " 'CommercialDataLL_Interest_in_Current_Affairs_Politics_In_Household',\n",
       " 'CommercialDataLL_Interest_in_Education_Online_In_Household',\n",
       " 'CommercialDataLL_Interest_in_Electronic_Gaming_In_Household',\n",
       " 'CommercialDataLL_Interest_in_Exercise_Aerobic_In_Household',\n",
       " 'CommercialDataLL_Interest_in_Exercise_Health_In_Household',\n",
       " 'CommercialDataLL_Interest_in_Exercise_Running_Jogging_In_Household',\n",
       " 'CommercialDataLL_Interest_in_Exercise_Walking_In_Household',\n",
       " 'CommercialDataLL_Interest_in_Fishing_In_Household',\n",
       " 'CommercialDataLL_Interest_in_Food_Wines_In_Household',\n",
       " 'CommercialDataLL_Interest_in_Foods_Natural_In_Household',\n",
       " 'CommercialDataLL_Interest_in_Gaming_Casino_In_Household',\n",
       " 'CommercialDataLL_Interest_in_Gardening_In_Household',\n",
       " 'CommercialDataLL_Interest_in_Golf_In_Household',\n",
       " 'CommercialDataLL_Interest_in_History_Military_In_Household',\n",
       " 'CommercialDataLL_Interest_in_Home_Furnishings_In_Household',\n",
       " 'CommercialDataLL_Interest_in_Home_Improvement_In_Household',\n",
       " 'CommercialDataLL_Interest_in_Home_Repair_In_Household',\n",
       " 'CommercialDataLL_Interest_in_House_Plants_In_Household',\n",
       " 'CommercialDataLL_Interest_in_Hunting_In_Household',\n",
       " 'CommercialDataLL_Interest_in_Motorcycling_In_Household',\n",
       " 'CommercialDataLL_Interest_in_Musical_Instruments_In_Household',\n",
       " 'CommercialDataLL_Interest_in_Nascar_In_Household',\n",
       " 'CommercialDataLL_Interest_in_Photography_In_Household',\n",
       " 'CommercialDataLL_Interest_in_Photography_Video_In_Household',\n",
       " 'CommercialDataLL_Interest_in_Religious_Inspirational_In_Household',\n",
       " 'CommercialDataLL_Interest_in_Science_Space_In_Household',\n",
       " 'CommercialDataLL_Interest_in_Scuba_Diving_In_Household',\n",
       " 'CommercialDataLL_Interest_in_Sewing_Knitting_In_Household',\n",
       " 'CommercialDataLL_Interest_in_Shooting_In_Household',\n",
       " 'CommercialDataLL_Interest_in_Smoking_In_Household',\n",
       " 'CommercialDataLL_Interest_in_Snow_Skiing_In_Household',\n",
       " 'CommercialDataLL_Interest_in_SpectatorSports_Auto_Racing_In_Household',\n",
       " 'CommercialDataLL_Interest_in_SpectatorSports_Baseball_In_Household',\n",
       " 'CommercialDataLL_Interest_in_SpectatorSports_Basketball_In_Household',\n",
       " 'CommercialDataLL_Interest_in_SpectatorSports_Football_In_Household',\n",
       " 'CommercialDataLL_Interest_in_SpectatorSports_Hockey_In_Household',\n",
       " 'CommercialDataLL_Interest_in_SpectatorSports_on_TV_In_Household',\n",
       " 'CommercialDataLL_Interest_in_SpectatorSports_Soccer_In_Household',\n",
       " 'CommercialDataLL_Interest_in_Sports_Leisure_In_Household',\n",
       " 'CommercialDataLL_Interest_in_Sweepstakes_Contests_In_Household',\n",
       " 'CommercialDataLL_Interest_in_Tennis_In_Household',\n",
       " 'CommercialDataLL_Interest_in_the_Arts_In_Household',\n",
       " 'CommercialDataLL_Interest_in_Theater_Performing_Arts_In_Household',\n",
       " 'CommercialDataLL_Interest_in_Travel_Cruise_In_Household',\n",
       " 'CommercialDataLL_Interest_in_Travel_Domestic_In_Household',\n",
       " 'CommercialDataLL_Interest_in_Travel_International_In_Household',\n",
       " 'CommercialDataLL_Interest_in_Woodworking_In_Household',\n",
       " 'CommercialDataLL_Investor',\n",
       " 'CommercialDataLL_HH_Net_Worth',\n",
       " 'CommercialDataLL_PetOwner_Cat',\n",
       " 'CommercialDataLL_PetOwner_Dog',\n",
       " 'CommercialDataLL_PetOwner_Horse',\n",
       " 'CommercialDataLL_PetOwner_Other',\n",
       " 'CommercialDataLL_Veteran',\n",
       " 'ElectionReturns_G08_Cnty_Margin_McCain_R',\n",
       " 'ElectionReturns_G08_Cnty_Percent_McCain_R',\n",
       " 'ElectionReturns_G08_Cnty_Vote_McCain_R',\n",
       " 'ElectionReturns_G08_Cnty_Margin_Obama_D',\n",
       " 'ElectionReturns_G08_Cnty_Percent_Obama_D',\n",
       " 'ElectionReturns_G08_Cnty_Vote_Obama_D',\n",
       " 'ElectionReturns_G08CountyTurnoutAllRegisteredVoters',\n",
       " 'ElectionReturns_G08CountyTurnoutDemocrats',\n",
       " 'ElectionReturns_G08CountyTurnoutIndependentsAllOthers',\n",
       " 'ElectionReturns_G08CountyTurnoutRepublicans',\n",
       " 'ElectionReturns_G08PrecinctTurnoutAllRegisteredVoters',\n",
       " 'ElectionReturns_G08PrecinctTurnoutDemocrats',\n",
       " 'ElectionReturns_G08PrecinctTurnoutIndependentsAllOthers',\n",
       " 'ElectionReturns_G08PrecinctTurnoutRepublicans',\n",
       " 'ElectionReturns_G10CountyTurnoutAllRegisteredVoters',\n",
       " 'ElectionReturns_G10CountyTurnoutDemocrats',\n",
       " 'ElectionReturns_G10CountyTurnoutIndependentsAllOthers',\n",
       " 'ElectionReturns_G10CountyTurnoutRepublicans',\n",
       " 'ElectionReturns_G10PrecinctTurnoutAllRegisteredVoters',\n",
       " 'ElectionReturns_G10PrecinctTurnoutDemocrats',\n",
       " 'ElectionReturns_G10PrecinctTurnoutIndependentsAllOthers',\n",
       " 'ElectionReturns_G10PrecinctTurnoutRepublicans',\n",
       " 'ElectionReturns_G12_Cnty_Margin_Obama_D',\n",
       " 'ElectionReturns_G12_Cnty_Percent_Obama_D',\n",
       " 'ElectionReturns_G12_Cnty_Vote_Obama_D',\n",
       " 'ElectionReturns_G12_Cnty_Margin_Romney_R',\n",
       " 'ElectionReturns_G12_Cnty_Percent_Romney_R',\n",
       " 'ElectionReturns_G12_Cnty_Vote_Romney_R',\n",
       " 'ElectionReturns_G12CountyTurnoutAllRegisteredVoters',\n",
       " 'ElectionReturns_G12CountyTurnoutDemocrats',\n",
       " 'ElectionReturns_G12CountyTurnoutIndependentsAllOthers',\n",
       " 'ElectionReturns_G12CountyTurnoutRepublicans',\n",
       " 'ElectionReturns_G12PrecinctTurnoutAllRegisteredVoters',\n",
       " 'ElectionReturns_G12PrecinctTurnoutDemocrats',\n",
       " 'ElectionReturns_G12PrecinctTurnoutIndependentsAllOthers',\n",
       " 'ElectionReturns_G12PrecinctTurnoutRepublicans',\n",
       " 'ElectionReturns_G14CountyTurnoutAllRegisteredVoters',\n",
       " 'ElectionReturns_G14CountyTurnoutDemocrats',\n",
       " 'ElectionReturns_G14CountyTurnoutIndependentsAllOthers',\n",
       " 'ElectionReturns_G14CountyTurnoutRepublicans',\n",
       " 'ElectionReturns_G14PrecinctTurnoutAllRegisteredVoters',\n",
       " 'ElectionReturns_G14PrecinctTurnoutDemocrats',\n",
       " 'ElectionReturns_G14PrecinctTurnoutIndependentsAllOthers',\n",
       " 'ElectionReturns_G14PrecinctTurnoutRepublicans',\n",
       " 'ElectionReturns_G16_Cnty_Margin_Clinton_D',\n",
       " 'ElectionReturns_G16_Cnty_Percent_Clinton_D',\n",
       " 'ElectionReturns_G16_Cnty_Vote_Clinton_D',\n",
       " 'ElectionReturns_G16_Cnty_Margin_Trump_R',\n",
       " 'ElectionReturns_G16_Cnty_Percent_Trump_R',\n",
       " 'ElectionReturns_G16_Cnty_Vote_Trump_R',\n",
       " 'ElectionReturns_G16CountyTurnoutAllRegisteredVoters',\n",
       " 'ElectionReturns_G16CountyTurnoutDemocrats',\n",
       " 'ElectionReturns_G16CountyTurnoutIndependentsAllOthers',\n",
       " 'ElectionReturns_G16CountyTurnoutRepublicans',\n",
       " 'ElectionReturns_G16PrecinctTurnoutAllRegisteredVoters',\n",
       " 'ElectionReturns_G16PrecinctTurnoutDemocrats',\n",
       " 'ElectionReturns_G16PrecinctTurnoutIndependentsAllOthers',\n",
       " 'ElectionReturns_G16PrecinctTurnoutRepublicans',\n",
       " 'ElectionReturns_G18CountyTurnoutAllRegisteredVoters',\n",
       " 'ElectionReturns_G18CountyTurnoutDemocrats',\n",
       " 'ElectionReturns_G18CountyTurnoutIndependentsAllOthers',\n",
       " 'ElectionReturns_G18CountyTurnoutRepublicans',\n",
       " 'ElectionReturns_G18PrecinctTurnoutAllRegisteredVoters',\n",
       " 'ElectionReturns_G18PrecinctTurnoutDemocrats',\n",
       " 'ElectionReturns_G18PrecinctTurnoutIndependentsAllOthers',\n",
       " 'ElectionReturns_G18PrecinctTurnoutRepublicans',\n",
       " 'ElectionReturns_P08_Cnty_Pct_Biden_D',\n",
       " 'ElectionReturns_P08_Cnty_Pct_Clinton_D',\n",
       " 'ElectionReturns_P08_Cnty_Pct_Dodd_D',\n",
       " 'ElectionReturns_P08_Cnty_Pct_Edwards_D',\n",
       " 'ElectionReturns_P08_Cnty_Pct_Gravel_D',\n",
       " 'ElectionReturns_P08_Cnty_Pct_Kucinich_D',\n",
       " 'ElectionReturns_P08_Cnty_Pct_Obama_D',\n",
       " 'ElectionReturns_P08_Cnty_Pct_Richardson_D',\n",
       " 'ElectionReturns_P08_Cnty_Vote_Biden_D',\n",
       " 'ElectionReturns_P08_Cnty_Vote_Clinton_D',\n",
       " 'ElectionReturns_P08_Cnty_Vote_Dodd_D',\n",
       " 'ElectionReturns_P08_Cnty_Vote_Edwards_D',\n",
       " 'ElectionReturns_P08_Cnty_Vote_Gravel_D',\n",
       " 'ElectionReturns_P08_Cnty_Vote_Kucinich_D',\n",
       " 'ElectionReturns_P08_Cnty_Vote_Obama_D',\n",
       " 'ElectionReturns_P08_Cnty_Vote_Richardson_D',\n",
       " 'ElectionReturns_P08_Cnty_Pct_Giuliani_R',\n",
       " 'ElectionReturns_P08_Cnty_Pct_Huckabee_R',\n",
       " 'ElectionReturns_P08_Cnty_Pct_Hunter_R',\n",
       " 'ElectionReturns_P08_Cnty_Pct_Keyes_R',\n",
       " 'ElectionReturns_P08_Cnty_Pct_McCain_R',\n",
       " 'ElectionReturns_P08_Cnty_Pct_Paul_R',\n",
       " 'ElectionReturns_P08_Cnty_Pct_Romney_R',\n",
       " 'ElectionReturns_P08_Cnty_Pct_Thompson_R',\n",
       " 'ElectionReturns_P08_Cnty_Vote_Giuliani_R',\n",
       " 'ElectionReturns_P08_Cnty_Vote_Huckabee_R',\n",
       " 'ElectionReturns_P08_Cnty_Vote_Hunter_R',\n",
       " 'ElectionReturns_P08_Cnty_Vote_Keyes_R',\n",
       " 'ElectionReturns_P08_Cnty_Vote_McCain_R',\n",
       " 'ElectionReturns_P08_Cnty_Vote_Paul_R',\n",
       " 'ElectionReturns_P08_Cnty_Vote_Romney_R',\n",
       " 'ElectionReturns_P08_Cnty_Vote_Thompson_R',\n",
       " 'ElectionReturns_P08CountyTurnoutAllRegisteredVoters',\n",
       " 'ElectionReturns_P08CountyTurnoutDemocrats',\n",
       " 'ElectionReturns_P08CountyTurnoutRepublicans',\n",
       " 'ElectionReturns_P08PrecinctTurnoutAllRegisteredVoters',\n",
       " 'ElectionReturns_P08PrecinctTurnoutDemocrats',\n",
       " 'ElectionReturns_P08PrecinctTurnoutRepublicans',\n",
       " 'ElectionReturns_P10CountyTurnoutAllRegisteredVoters',\n",
       " 'ElectionReturns_P10CountyTurnoutDemocrats',\n",
       " 'ElectionReturns_P10CountyTurnoutRepublicans',\n",
       " 'ElectionReturns_P10PrecinctTurnoutAllRegisteredVoters',\n",
       " 'ElectionReturns_P10PrecinctTurnoutDemocrats',\n",
       " 'ElectionReturns_P10PrecinctTurnoutRepublicans',\n",
       " 'ElectionReturns_P12_Cnty_Pct_Bachman_R',\n",
       " 'ElectionReturns_P12_Cnty_Pct_Gingrich_R',\n",
       " 'ElectionReturns_P12_Cnty_Pct_Huntsman_R',\n",
       " 'ElectionReturns_P12_Cnty_Pct_Paul_R',\n",
       " 'ElectionReturns_P12_Cnty_Pct_Perry_R',\n",
       " 'ElectionReturns_P12_Cnty_Pct_Romney_R',\n",
       " 'ElectionReturns_P12_Cnty_Pct_Santorum_R',\n",
       " 'ElectionReturns_P12_Cnty_Vote_Bachman_R',\n",
       " 'ElectionReturns_P12_Cnty_Vote_Gingrich_R',\n",
       " 'ElectionReturns_P12_Cnty_Vote_Huntsman_R',\n",
       " 'ElectionReturns_P12_Cnty_Vote_Paul_R',\n",
       " 'ElectionReturns_P12_Cnty_Vote_Perry_R',\n",
       " 'ElectionReturns_P12_Cnty_Vote_Romney_R',\n",
       " 'ElectionReturns_P12_Cnty_Vote_Santorum_R',\n",
       " 'ElectionReturns_P12CountyTurnoutAllRegisteredVoters',\n",
       " 'ElectionReturns_P12CountyTurnoutDemocrats',\n",
       " 'ElectionReturns_P12CountyTurnoutRepublicans',\n",
       " 'ElectionReturns_P12PrecinctTurnoutAllRegisteredVoters',\n",
       " 'ElectionReturns_P12PrecinctTurnoutDemocrats',\n",
       " 'ElectionReturns_P12PrecinctTurnoutRepublicans',\n",
       " 'ElectionReturns_P14CountyTurnoutAllRegisteredVoters',\n",
       " 'ElectionReturns_P14CountyTurnoutDemocrats',\n",
       " 'ElectionReturns_P14CountyTurnoutRepublicans',\n",
       " 'ElectionReturns_P14PrecinctTurnoutAllRegisteredVoters',\n",
       " 'ElectionReturns_P14PrecinctTurnoutDemocrats',\n",
       " 'ElectionReturns_P14PrecinctTurnoutRepublicans',\n",
       " 'ElectionReturns_P16_Cnty_Pct_Bush_R',\n",
       " 'ElectionReturns_P16_Cnty_Pct_Carson_R',\n",
       " 'ElectionReturns_P16_Cnty_Pct_Christie_R',\n",
       " 'ElectionReturns_P16_Cnty_Pct_Cruz_R',\n",
       " 'ElectionReturns_P16_Cnty_Pct_Fiorina_R',\n",
       " 'ElectionReturns_P16_Cnty_Pct_Kasich_R',\n",
       " 'ElectionReturns_P16_Cnty_Pct_Rubio_R',\n",
       " 'ElectionReturns_P16_Cnty_Pct_Trump_R',\n",
       " 'ElectionReturns_P16_Cnty_Vote_Bush_R',\n",
       " 'ElectionReturns_P16_Cnty_Vote_Carson_R',\n",
       " 'ElectionReturns_P16_Cnty_Vote_Christie_R',\n",
       " 'ElectionReturns_P16_Cnty_Vote_Cruz_R',\n",
       " 'ElectionReturns_P16_Cnty_Vote_Fiorina_R',\n",
       " 'ElectionReturns_P16_Cnty_Vote_Kasich_R',\n",
       " 'ElectionReturns_P16_Cnty_Vote_Rubio_R',\n",
       " 'ElectionReturns_P16_Cnty_Vote_Trump_R',\n",
       " 'ElectionReturns_P16_Cnty_Pct_Clinton_D',\n",
       " 'ElectionReturns_P16_Cnty_Pct_Sanders_D',\n",
       " 'ElectionReturns_P16_Cnty_Vote_Clinton_D',\n",
       " 'ElectionReturns_P16_Cnty_Vote_Sanders_D',\n",
       " 'ElectionReturns_P16CountyTurnoutAllRegisteredVoters',\n",
       " 'ElectionReturns_P16CountyTurnoutDemocrats',\n",
       " 'ElectionReturns_P16CountyTurnoutRepublicans',\n",
       " 'ElectionReturns_P16PrecinctTurnoutAllRegisteredVoters',\n",
       " 'ElectionReturns_P16PrecinctTurnoutDemocrats',\n",
       " 'ElectionReturns_P16PrecinctTurnoutRepublicans',\n",
       " 'ElectionReturns_P18CountyTurnoutAllRegisteredVoters',\n",
       " 'ElectionReturns_P18CountyTurnoutDemocrats',\n",
       " 'ElectionReturns_P18CountyTurnoutRepublicans',\n",
       " 'ElectionReturns_P18PrecinctTurnoutAllRegisteredVoters',\n",
       " 'ElectionReturns_P18PrecinctTurnoutDemocrats',\n",
       " 'ElectionReturns_P18PrecinctTurnoutRepublicans',\n",
       " 'FECDonors_AvgDonation',\n",
       " 'FECDonors_AvgDonation_Range',\n",
       " 'FECDonors_LastDonationDate',\n",
       " 'FECDonors_NumberOfDonations',\n",
       " 'FECDonors_PrimaryRecipientOfContributions',\n",
       " 'FECDonors_TotalDonationsAmount',\n",
       " 'FECDonors_TotalDonationsAmt_Range']"
      ]
     },
     "execution_count": 4,
     "metadata": {},
=======
   "execution_count": null,
   "metadata": {
    "id": "ZgXExSgf3C1S",
    "outputId": "057aaedc-f11e-4f2d-eb45-dbf9f90a1ce5"
   },
   "outputs": [
    {
     "data": {
      "text/html": [
       "<div>\n",
       "<style scoped>\n",
       "    .dataframe tbody tr th:only-of-type {\n",
       "        vertical-align: middle;\n",
       "    }\n",
       "\n",
       "    .dataframe tbody tr th {\n",
       "        vertical-align: top;\n",
       "    }\n",
       "\n",
       "    .dataframe thead th {\n",
       "        text-align: right;\n",
       "    }\n",
       "</style>\n",
       "<table border=\"1\" class=\"dataframe\">\n",
       "  <thead>\n",
       "    <tr style=\"text-align: right;\">\n",
       "      <th></th>\n",
       "      <th>LALVOTERID</th>\n",
       "      <th>General_2016_11_08</th>\n",
       "      <th>Voters_Gender</th>\n",
       "      <th>Voters_FIPS</th>\n",
       "      <th>lat_jitter</th>\n",
       "      <th>long_jitter</th>\n",
       "    </tr>\n",
       "  </thead>\n",
       "  <tbody>\n",
       "    <tr>\n",
       "      <th>4506497</th>\n",
       "      <td>LALVA4381855</td>\n",
       "      <td>Y</td>\n",
       "      <td>F</td>\n",
       "      <td>710</td>\n",
       "      <td>36.810290</td>\n",
       "      <td>-76.255566</td>\n",
       "    </tr>\n",
       "    <tr>\n",
       "      <th>3220820</th>\n",
       "      <td>LALVA1954212</td>\n",
       "      <td>Y</td>\n",
       "      <td>M</td>\n",
       "      <td>161</td>\n",
       "      <td>37.255338</td>\n",
       "      <td>-80.044706</td>\n",
       "    </tr>\n",
       "    <tr>\n",
       "      <th>745576</th>\n",
       "      <td>LALVA738960</td>\n",
       "      <td>Y</td>\n",
       "      <td>M</td>\n",
       "      <td>041</td>\n",
       "      <td>37.505897</td>\n",
       "      <td>-77.576737</td>\n",
       "    </tr>\n",
       "    <tr>\n",
       "      <th>2152787</th>\n",
       "      <td>LALVA471745169</td>\n",
       "      <td>Y</td>\n",
       "      <td>M</td>\n",
       "      <td>093</td>\n",
       "      <td>36.955577</td>\n",
       "      <td>-76.638565</td>\n",
       "    </tr>\n",
       "    <tr>\n",
       "      <th>3196996</th>\n",
       "      <td>LALVA398865370</td>\n",
       "      <td>NaN</td>\n",
       "      <td>M</td>\n",
       "      <td>161</td>\n",
       "      <td>37.181218</td>\n",
       "      <td>-79.913420</td>\n",
       "    </tr>\n",
       "  </tbody>\n",
       "</table>\n",
       "</div>"
      ],
      "text/plain": [
       "             LALVOTERID General_2016_11_08 Voters_Gender Voters_FIPS  \\\n",
       "4506497    LALVA4381855                  Y             F         710   \n",
       "3220820    LALVA1954212                  Y             M         161   \n",
       "745576      LALVA738960                  Y             M         041   \n",
       "2152787  LALVA471745169                  Y             M         093   \n",
       "3196996  LALVA398865370                NaN             M         161   \n",
       "\n",
       "         lat_jitter  long_jitter  \n",
       "4506497   36.810290   -76.255566  \n",
       "3220820   37.255338   -80.044706  \n",
       "745576    37.505897   -77.576737  \n",
       "2152787   36.955577   -76.638565  \n",
       "3196996   37.181218   -79.913420  "
      ]
     },
     "execution_count": 14,
     "metadata": {
      "tags": []
     },
>>>>>>> 986566042af05d5850664a907c4ca8e557507f34
     "output_type": "execute_result"
    }
   ],
   "source": [
<<<<<<< HEAD
    "len(state_demographic_ak)\n",
    "state_demographic_ak.columns.tolist()"
=======
    "stripped_sample = jittered_long.drop(columns=['Residence_Addresses_Latitude', 'Residence_Addresses_Longitude'])\n",
    "\n",
    "stripped_sample.head(5)"
   ]
  },
  {
   "cell_type": "markdown",
   "metadata": {
    "id": "uWzC7IGU3C1S"
   },
   "source": [
    "## V. Saving the Resulting Dataframe to a CSV\n",
    "\n",
    "Finally, you may want to write out the sample to a CSV, leaving out the index that Pandas creates and stipulating the encoding into utf-8"
>>>>>>> 986566042af05d5850664a907c4ca8e557507f34
   ]
  },
  {
   "cell_type": "code",
   "execution_count": null,
<<<<<<< HEAD
   "metadata": {},
   "outputs": [],
   "source": []
=======
   "metadata": {
    "collapsed": true,
    "id": "zR7B0twR3C1T"
   },
   "outputs": [],
   "source": [
    "stripped_sample.to_csv(r'virginia-onepercent-sample.csv', index=False, encoding='utf-8')"
   ]
  },
  {
   "cell_type": "markdown",
   "metadata": {
    "id": "q8PllR4c3C1T"
   },
   "source": [
    "In the course of your analysis, you may want to repeat this process for multiple states and/or develop an aggregate roster of voters culled from a subset. You are encouraged to visit the tools section on the [L2 Political LibGuide at NYU Libraries](https://guides.nyu.edu/l2political/tools).\n",
    "\n",
    "In general, you should have a data management plan with these files that includes the following elements:\n",
    "\n",
    "- Secure any original .tab files you've downloaded by storing them in a single directory location, and then deleting the original .tab files once you've generated extracts\n",
    "- Manage your extracted samples in a secure environment\n",
    "\n",
    "Simple scripts and suggestions are available on the L2 Political LibGuide. \n"
   ]
>>>>>>> 986566042af05d5850664a907c4ca8e557507f34
  }
 ],
 "metadata": {
  "colab": {
   "collapsed_sections": [],
   "include_colab_link": true,
   "name": "L2_Political_Data.ipynb",
   "provenance": []
  },
  "kernelspec": {
   "display_name": "Python 3",
   "language": "python",
   "name": "python3"
  },
  "language_info": {
   "codemirror_mode": {
    "name": "ipython",
    "version": 3
   },
   "file_extension": ".py",
   "mimetype": "text/x-python",
   "name": "python",
   "nbconvert_exporter": "python",
   "pygments_lexer": "ipython3",
<<<<<<< HEAD
   "version": "3.7.6"
=======
   "version": "3.8.3"
>>>>>>> 986566042af05d5850664a907c4ca8e557507f34
  }
 },
 "nbformat": 4,
 "nbformat_minor": 1
}
