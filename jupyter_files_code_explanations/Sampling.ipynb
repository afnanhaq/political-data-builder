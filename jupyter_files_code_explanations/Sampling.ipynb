{
 "cells": [
  {
   "cell_type": "code",
   "execution_count": 3,
   "metadata": {
    "scrolled": true
   },
   "outputs": [
    {
     "ename": "SyntaxError",
     "evalue": "invalid syntax (Extraction.ipynb, line 11)",
     "output_type": "error",
     "traceback": [
      "Traceback \u001b[1;36m(most recent call last)\u001b[0m:\n",
      "  File \u001b[0;32m\"C:\\Users\\eliot\\anaconda3\\lib\\site-packages\\IPython\\core\\interactiveshell.py\"\u001b[0m, line \u001b[0;32m3343\u001b[0m, in \u001b[0;35mrun_code\u001b[0m\n    exec(code_obj, self.user_global_ns, self.user_ns)\n",
      "  File \u001b[0;32m\"<ipython-input-3-2f494bc6060a>\"\u001b[0m, line \u001b[0;32m2\u001b[0m, in \u001b[0;35m<module>\u001b[0m\n    from ipynb.fs.full.Extraction import *\n",
      "  File \u001b[0;32m\"<frozen importlib._bootstrap>\"\u001b[0m, line \u001b[0;32m991\u001b[0m, in \u001b[0;35m_find_and_load\u001b[0m\n",
      "  File \u001b[0;32m\"<frozen importlib._bootstrap>\"\u001b[0m, line \u001b[0;32m975\u001b[0m, in \u001b[0;35m_find_and_load_unlocked\u001b[0m\n",
      "  File \u001b[0;32m\"<frozen importlib._bootstrap>\"\u001b[0m, line \u001b[0;32m671\u001b[0m, in \u001b[0;35m_load_unlocked\u001b[0m\n",
      "  File \u001b[0;32m\"<frozen importlib._bootstrap_external>\"\u001b[0m, line \u001b[0;32m779\u001b[0m, in \u001b[0;35mexec_module\u001b[0m\n",
      "\u001b[1;36m  File \u001b[1;32m\"C:\\Users\\eliot\\anaconda3\\lib\\site-packages\\ipynb\\fs\\full\\__init__.py\"\u001b[1;36m, line \u001b[1;32m43\u001b[1;36m, in \u001b[1;35mget_code\u001b[1;36m\u001b[0m\n\u001b[1;33m    return self.source_to_code(code_from_ipynb(nb), self.path)\u001b[0m\n",
      "\u001b[1;36m  File \u001b[1;32m\"C:\\Users\\eliot\\Desktop\\Code\\Hackathon\\Datathon\\political-data-builder\\Extraction.ipynb\"\u001b[1;36m, line \u001b[1;32m11\u001b[0m\n\u001b[1;33m    },\u001b[0m\n\u001b[1;37m      ^\u001b[0m\n\u001b[1;31mSyntaxError\u001b[0m\u001b[1;31m:\u001b[0m invalid syntax\n"
     ]
    }
   ],
   "source": [
    "#Import that data frames dictionary as well as all of the imports\n",
    "#TODO: Not sure how to import another file \n",
    "from ipynb.fs.full.Extraction import *"
   ]
  },
  {
   "cell_type": "code",
   "execution_count": 5,
   "metadata": {},
   "outputs": [
    {
     "ename": "NameError",
     "evalue": "name 'Extraction' is not defined",
     "output_type": "error",
     "traceback": [
      "\u001b[1;31m---------------------------------------------------------------------------\u001b[0m",
      "\u001b[1;31mNameError\u001b[0m                                 Traceback (most recent call last)",
      "\u001b[1;32m<ipython-input-5-5b8902ea648f>\u001b[0m in \u001b[0;36m<module>\u001b[1;34m\u001b[0m\n\u001b[1;32m----> 1\u001b[1;33m \u001b[0mprint\u001b[0m\u001b[1;33m(\u001b[0m\u001b[0mExtraction\u001b[0m\u001b[1;33m.\u001b[0m\u001b[0mplace_dic\u001b[0m\u001b[1;33m)\u001b[0m\u001b[1;33m\u001b[0m\u001b[1;33m\u001b[0m\u001b[0m\n\u001b[0m",
      "\u001b[1;31mNameError\u001b[0m: name 'Extraction' is not defined"
     ]
    }
   ],
   "source": []
  },
  {
   "cell_type": "code",
   "execution_count": 9,
   "metadata": {},
   "outputs": [],
   "source": [
    "def merge(state_vote_history, state_demographic):\n",
    "    merged_file = pd.merge(state_vote_history, state_demographic,\n",
    "                       how='left', left_on='LALVOTERID', right_on='LALVOTERID')\n",
    "    \n",
    "    merged_file.head(5)\n",
    "    return merged_file"
   ]
  },
  {
   "cell_type": "code",
   "execution_count": 10,
   "metadata": {},
   "outputs": [],
   "source": [
    "def get_sample(file, sample_size):\n",
    "    return file.sample(frac=sample_size)\n",
    "\n",
    "#stratified sampling\n",
    "#choose equal sample sizes from each \n",
    "def build_stratified_national_sample(sample_size):\n",
    "    national_sample = get_sample(AK, sample_size)\n",
    "    for file in files:\n",
    "        national_sample = pd.concat([national_sample, get_sample(file, sample_size)], axis=0)\n",
    "\n",
    "#simple random sampling\n",
    "#choose randomly from national dataset\n",
    "def build_simple_random_national_sample(sample_size):\n",
    "    total_rows = 0\n",
    "    for file in files:\n",
    "        total_rows.append(len(file))\n",
    "    national_sample = get_sample(AK, len(AK)/total_rows)\n",
    "    for file in files:\n",
    "        national_sample = pd.concat([national_sample, get_sample(file, len(file)/total_rows)], axis = 0)\n",
    "        "
   ]
  },
  {
   "cell_type": "code",
   "execution_count": null,
   "metadata": {},
   "outputs": [],
   "source": [
    "\n"
   ]
  },
  {
   "cell_type": "code",
   "execution_count": null,
   "metadata": {},
   "outputs": [],
   "source": []
  }
 ],
 "metadata": {
  "kernelspec": {
   "display_name": "Python 3",
   "language": "python",
   "name": "python3"
  },
  "language_info": {
   "codemirror_mode": {
    "name": "ipython",
    "version": 3
   },
   "file_extension": ".py",
   "mimetype": "text/x-python",
   "name": "python",
   "nbconvert_exporter": "python",
   "pygments_lexer": "ipython3",
   "version": "3.8.3"
  }
 },
 "nbformat": 4,
 "nbformat_minor": 4
}
